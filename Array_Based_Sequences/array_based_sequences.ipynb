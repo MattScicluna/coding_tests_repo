{
 "cells": [
  {
   "cell_type": "markdown",
   "metadata": {},
   "source": [
    "# Array Based Sequences\n",
    "\n",
    "This notebook describes Array Based Sequences. It covers the following:\n",
    "\n",
    "1. Sequence Type in Python\n",
    "2. Low Level Arrays\n",
    "3. Strings\n",
    "4. Referential vs Compact Arrays\n",
    "5. Dynamic Arrays\n",
    "6. Efficiency of Strings, Lists, and Tuples\n",
    "7. Speed of Various Methods\n",
    "\n",
    "For each concept, there are Python examples which help illustrate the ideas."
   ]
  },
  {
   "cell_type": "markdown",
   "metadata": {},
   "source": [
    "## 1. Sequence Type in Python\n",
    "\n",
    "Python has 3 built-in sequence classes:\n",
    "* List\n",
    "* Tuple\n",
    "* String\n",
    "\n",
    "Each of these Classes:\n",
    "* Support Indexing\n",
    "* Use an *array* to represent the sequence\n",
    "\n",
    "Here is the ABT for a Sequence"
   ]
  },
  {
   "cell_type": "code",
   "execution_count": 1,
   "metadata": {},
   "outputs": [],
   "source": [
    "from abc import ABCMeta, abstractmethod\n",
    "\n",
    "class Sequence(metaclass=ABCMeta):  \n",
    "    \"\"\"\n",
    "    Version of collections.Sequence Abstract Base Class\n",
    "    From Data Structures and Algorithms in Python (Goodrich et al.)\n",
    "    \n",
    "    Note: This is a metaclass (not a superclass).\n",
    "    Meaning this provides a template for the class definition itself.\n",
    "    constructor for this class raises an error.\n",
    "    \"\"\"\n",
    "\n",
    "    @abstractmethod\n",
    "    def __len__(self):\n",
    "        \"\"\"return the length of the sequence.\"\"\"\n",
    "\n",
    "    @abstractmethod    \n",
    "    def __getitem__(self, j):\n",
    "        \"\"\"return the element at index j of the sequence\"\"\"\n",
    "\n",
    "    def __contains__(self, val):\n",
    "        \"\"\"returns True if val found in the sequence; False otherwise\"\"\"\n",
    "        for j in range(len(self)):\n",
    "            if self[j] == val: #  found a match\n",
    "                return True\n",
    "        return False\n",
    "\n",
    "    def index(self, val):\n",
    "        \"\"\"returns leftmost index at which val is found (or raise ValueError)\"\"\"\n",
    "        for j in range(len(self)):\n",
    "            if self[j] == val: #  leftmost match\n",
    "                return j\n",
    "        raise ValueError('value not in sequence') #  never found a match\n",
    "\n",
    "    def count(self, val):\n",
    "        \"\"\"return the number of elements equal to given value\"\"\"\n",
    "        k = 0\n",
    "        for j in range(len(self)):\n",
    "            if self[j] == val:  # found a match\n",
    "                k += 1\n",
    "        return k"
   ]
  },
  {
   "cell_type": "markdown",
   "metadata": {},
   "source": [
    "## 2. Low Level Arrays\n",
    "\n",
    "![](images/arrays.png)"
   ]
  },
  {
   "cell_type": "markdown",
   "metadata": {},
   "source": [
    "## 3. Strings\n",
    "\n",
    "![](images/strings.png)"
   ]
  },
  {
   "cell_type": "markdown",
   "metadata": {},
   "source": [
    "## 4. Referential vs Compact Arrays\n",
    "\n",
    "Referential arrays store *references* to objects.\n",
    "* This way, we can store objects with different sizes, since the reference always has the same size (8 Bytes).\n",
    "* We can have multiple lists containing references to the same items. In particular, we have slices:\n",
    "\n",
    "![](images/referential_vs_compact.png)"
   ]
  },
  {
   "cell_type": "code",
   "execution_count": 2,
   "metadata": {},
   "outputs": [
    {
     "name": "stdout",
     "output_type": "stream",
     "text": [
      "temp = [7, 11, 15]\n",
      "primes = [2, 3, 5, 7, 11, 13, 17, 19]\n"
     ]
    }
   ],
   "source": [
    "primes = [2, 3, 5, 7, 11, 13, 17, 19]\n",
    "temp = primes[3:6]\n",
    "temp[2] = 15\n",
    "print('temp = {}'.format(temp)) # changes!\n",
    "print('primes = {}'.format(primes)) # doesn't change since alias was broken (since ints are immutable)!"
   ]
  },
  {
   "cell_type": "markdown",
   "metadata": {},
   "source": [
    "Since int is an immutable data type, overriding the element in the second index of `temp` breaks its alias with the element in the sixth index of `primes`\n",
    "\n",
    "Notice how this code would behave unexpectedly if we had a mutable data type in our list.\n",
    "For an extreme example, consider the two lists"
   ]
  },
  {
   "cell_type": "code",
   "execution_count": 3,
   "metadata": {},
   "outputs": [
    {
     "name": "stdout",
     "output_type": "stream",
     "text": [
      "before x: [0, 0, 0, 0, 0, 0, 0, 0]\n",
      "before y: [[0], [0], [0], [0], [0], [0], [0], [0]]\n",
      "list x is now: [1, 0, 0, 0, 0, 0, 0, 0]\n",
      "list y is now: [[], [], [], [], [], [], [], []]\n"
     ]
    }
   ],
   "source": [
    "x = [0]*8\n",
    "y = [[0]]*8\n",
    "\n",
    "print('before x: {}'.format(x))\n",
    "print('before y: {}'.format(y))\n",
    "\n",
    "x[0] = 1\n",
    "y[0].pop()\n",
    "\n",
    "print('list x is now: {}'.format(x))\n",
    "print('list y is now: {}'.format(y))"
   ]
  },
  {
   "cell_type": "markdown",
   "metadata": {},
   "source": [
    "Items in a list can point to same memory address.\n",
    "For example, in `y` all items point to the same memory address"
   ]
  },
  {
   "cell_type": "code",
   "execution_count": 4,
   "metadata": {},
   "outputs": [
    {
     "name": "stdout",
     "output_type": "stream",
     "text": [
      "140608646453920\n",
      "140608646453920\n",
      "140608646453920\n",
      "140608646453920\n",
      "140608646453920\n",
      "140608646453920\n",
      "140608646453920\n",
      "140608646453920\n"
     ]
    }
   ],
   "source": [
    "for i in y:\n",
    "    print(id(i))"
   ]
  },
  {
   "cell_type": "markdown",
   "metadata": {},
   "source": [
    "For `x`, the first item points to a different address (since alias was broken)"
   ]
  },
  {
   "cell_type": "code",
   "execution_count": 5,
   "metadata": {},
   "outputs": [
    {
     "name": "stdout",
     "output_type": "stream",
     "text": [
      "93971634381600\n",
      "93971634381568\n",
      "93971634381568\n",
      "93971634381568\n",
      "93971634381568\n",
      "93971634381568\n",
      "93971634381568\n",
      "93971634381568\n"
     ]
    }
   ],
   "source": [
    "for i in x:\n",
    "    print(id(i))"
   ]
  },
  {
   "cell_type": "markdown",
   "metadata": {},
   "source": [
    "Items in list can point to same memory address"
   ]
  },
  {
   "cell_type": "code",
   "execution_count": 6,
   "metadata": {},
   "outputs": [
    {
     "name": "stdout",
     "output_type": "stream",
     "text": [
      "before: [[1, 2, 3], [1, 2, 3]]\n",
      "after: [[2, 3], [2, 3]]\n"
     ]
    }
   ],
   "source": [
    "x = [1,2,3]\n",
    "y = [x, x]\n",
    "print('before: {}'.format(y))\n",
    "x.remove(1)\n",
    "print('after: {}'.format(y)) #  notice how both columns changed (since both alias the same underlying object)!"
   ]
  },
  {
   "cell_type": "markdown",
   "metadata": {},
   "source": [
    "Different lists can have items that point to same memory address"
   ]
  },
  {
   "cell_type": "code",
   "execution_count": 7,
   "metadata": {},
   "outputs": [
    {
     "name": "stdout",
     "output_type": "stream",
     "text": [
      "before y: [[1, 2, 3], [4, 5, 6]]\n",
      "before z: [[1, 2, 3], [7, 8, 9]]\n",
      "after y: [[2, 3], [4, 5, 6]]\n",
      "after z: [[2, 3], [7, 8, 9]]\n"
     ]
    }
   ],
   "source": [
    "x = [1,2,3]\n",
    "y = [x, [4,5,6]]\n",
    "z = [x, [7,8,9]]  #  both y and z contain reference to x\n",
    "\n",
    "print('before y: {}'.format(y))\n",
    "print('before z: {}'.format(z))\n",
    "x.remove(1)\n",
    "print('after y: {}'.format(y))\n",
    "print('after z: {}'.format(z))"
   ]
  },
  {
   "cell_type": "markdown",
   "metadata": {},
   "source": [
    "Combining the above 2 concepts.\n",
    "* Notice that the slice of `y` from index 0 to 1 (i.e. `y[0:2]`) point to the same objects as `y` does at indices 0 and 1.\n",
    "* So mutating items in `y[0:2]` mutates them in `y` too.\n",
    "* And since both items in the slice point to the same object, the `.pop()` is actually being called twice!"
   ]
  },
  {
   "cell_type": "code",
   "execution_count": 8,
   "metadata": {},
   "outputs": [
    {
     "name": "stdout",
     "output_type": "stream",
     "text": [
      "[[1], [1], [1]]\n"
     ]
    }
   ],
   "source": [
    "x = [1,2,3]\n",
    "y = [x, x, x]\n",
    "for item in y[0:2]:\n",
    "    item.pop()\n",
    "print(y)"
   ]
  },
  {
   "cell_type": "markdown",
   "metadata": {},
   "source": [
    "## 5. Dynamic Arrays\n",
    "\n",
    "![](images/dynamic_arrays.png)\n",
    "\n",
    "![](images/dynamic_arrays2.png)"
   ]
  },
  {
   "cell_type": "markdown",
   "metadata": {},
   "source": [
    "Notes:\n",
    "* the list (referential array) increases in size as elements are added\n",
    "* Because a list is a referential structure, the result of `getsizeof` only includes the size for representing its primary structure (the references). \n",
    "* It does not account for memory used by the objects that the references refer to."
   ]
  },
  {
   "cell_type": "code",
   "execution_count": 10,
   "metadata": {},
   "outputs": [
    {
     "name": "stdout",
     "output_type": "stream",
     "text": [
      "0 element list has 72 Bytes. 72 Bytes added -1 -> 0\n",
      "1 element list has 104 Bytes. 32 Bytes added 0 -> 1\n",
      "2 element list has 104 Bytes. 0 Bytes added 1 -> 2\n",
      "3 element list has 104 Bytes. 0 Bytes added 2 -> 3\n",
      "4 element list has 104 Bytes. 0 Bytes added 3 -> 4\n",
      "5 element list has 136 Bytes. 32 Bytes added 4 -> 5\n",
      "6 element list has 136 Bytes. 0 Bytes added 5 -> 6\n",
      "7 element list has 136 Bytes. 0 Bytes added 6 -> 7\n",
      "8 element list has 136 Bytes. 0 Bytes added 7 -> 8\n",
      "9 element list has 200 Bytes. 64 Bytes added 8 -> 9\n",
      "10 element list has 200 Bytes. 0 Bytes added 9 -> 10\n",
      "11 element list has 200 Bytes. 0 Bytes added 10 -> 11\n",
      "12 element list has 200 Bytes. 0 Bytes added 11 -> 12\n",
      "13 element list has 200 Bytes. 0 Bytes added 12 -> 13\n",
      "14 element list has 200 Bytes. 0 Bytes added 13 -> 14\n",
      "15 element list has 200 Bytes. 0 Bytes added 14 -> 15\n",
      "16 element list has 200 Bytes. 0 Bytes added 15 -> 16\n",
      "17 element list has 272 Bytes. 72 Bytes added 16 -> 17\n"
     ]
    }
   ],
   "source": [
    "import sys\n",
    "\n",
    "test_list = []\n",
    "prev_size = 0\n",
    "for _ in range(18):\n",
    "    curr_size = sys.getsizeof(test_list)\n",
    "    change = curr_size - prev_size\n",
    "    test_list.append(None)\n",
    "    print('{} element list has {} Bytes. {} Bytes added {} -> {}'.format(len(test_list)-1, curr_size, change, len(test_list)-2, len(test_list)-1))\n",
    "    prev_size = curr_size"
   ]
  },
  {
   "cell_type": "markdown",
   "metadata": {},
   "source": [
    "* So going from zero elements to one leads to an increase of 32 Bytes $\\Rightarrow$ 32/8 = 4 Memory Addresses.\n",
    "* Indeed, the array doesn't change size until the 5th element!\n",
    "* We can see from the pic below that the time for each append changes, but doesn't seem to increase during steps when the array size increases!"
   ]
  },
  {
   "cell_type": "code",
   "execution_count": 16,
   "metadata": {},
   "outputs": [
    {
     "data": {
      "text/plain": [
       "<matplotlib.axes._subplots.AxesSubplot at 0x7fe1d3d1b510>"
      ]
     },
     "execution_count": 16,
     "metadata": {},
     "output_type": "execute_result"
    },
    {
     "data": {
      "image/png": "[encoded data removed]",
      "text/plain": [
       "<Figure size 432x288 with 1 Axes>"
      ]
     },
     "metadata": {
      "needs_background": "light"
     },
     "output_type": "display_data"
    }
   ],
   "source": [
    "import time\n",
    "import pandas as pd\n",
    "import matplotlib.pyplot as plt\n",
    "\n",
    "recorded_data = pd.DataFrame(columns=['seconds', 'change', 'has_changed', 'array_size'])\n",
    "test_list = []\n",
    "prev_size = 0\n",
    "for _ in range(18):\n",
    "    curr_size = sys.getsizeof(test_list)\n",
    "    change = curr_size - prev_size\n",
    "    start = time.time()\n",
    "    test_list.append(None)\n",
    "    end = time.time()\n",
    "    prev_size = curr_size\n",
    "    recorded_data = recorded_data.append({'array_size': len(test_list), \n",
    "                                          'seconds': round(end-start, 10), \n",
    "                                          'change': change, \n",
    "                                          'has_changed': change > 0}, ignore_index=True)\n",
    "    \n",
    "colors = ['red' if x else 'blue' for x in recorded_data.has_changed.tolist()]\n",
    "recorded_data.plot(x='array_size', y='seconds', kind='bar', color=colors)"
   ]
  },
  {
   "cell_type": "markdown",
   "metadata": {},
   "source": [
    "## 6.  Efficiency of Strings, Lists, and Tuples\n",
    "\n",
    "![](images/methods.png)"
   ]
  },
  {
   "cell_type": "markdown",
   "metadata": {},
   "source": [
    "## 7. Speed of Various Methods\n",
    "\n",
    "![](images/speeds.png)"
   ]
  }
 ],
 "metadata": {
  "kernelspec": {
   "display_name": "Python 3",
   "language": "python",
   "name": "python3"
  },
  "language_info": {
   "codemirror_mode": {
    "name": "ipython",
    "version": 3
   },
   "file_extension": ".py",
   "mimetype": "text/x-python",
   "name": "python",
   "nbconvert_exporter": "python",
   "pygments_lexer": "ipython3",
   "version": "3.7.4"
  }
 },
 "nbformat": 4,
 "nbformat_minor": 4
}
