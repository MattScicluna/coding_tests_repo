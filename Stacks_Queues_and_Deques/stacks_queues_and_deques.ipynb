{
 "cells": [
  {
   "cell_type": "markdown",
   "metadata": {},
   "source": [
    "# Stacks, Queues and Deques\n",
    "\n",
    "This notebook describes Stacks, Queues and Deques in Python. It covers the following:\n",
    "\n",
    "1. \n",
    "\n",
    "For each concept, there are Python examples which help illustrate the ideas.\n"
   ]
  },
  {
   "cell_type": "markdown",
   "metadata": {},
   "source": [
    "Implementation of a Stack"
   ]
  },
  {
   "cell_type": "code",
   "execution_count": 11,
   "metadata": {},
   "outputs": [],
   "source": [
    "class Empty(Exception):\n",
    "    \"\"\"Error attempting to access an element from an empty container.\"\"\"\n",
    "    pass\n",
    "\n",
    "class Stack:\n",
    "    def __init__(self):\n",
    "        self._stack = []\n",
    "\n",
    "    def push(self, value):\n",
    "        self._stack.append(value)\n",
    "\n",
    "    def pop(self):\n",
    "        if not self.is_empty():\n",
    "            return self._stack.pop()\n",
    "        return Empty\n",
    "\n",
    "    def __len__(self):\n",
    "        return len(self._stack)\n",
    "\n",
    "    def top(self):\n",
    "        if not self.is_empty():\n",
    "            return self._stack[-1]\n",
    "        return Empty\n",
    "\n",
    "    def is_empty(self):\n",
    "        return len(self)==0\n",
    "    \n",
    "    def __repr__(self):\n",
    "        return str(self._stack)"
   ]
  },
  {
   "cell_type": "code",
   "execution_count": 12,
   "metadata": {},
   "outputs": [
    {
     "name": "stdout",
     "output_type": "stream",
     "text": [
      "None : [5]\n",
      "None : [5, 3]\n",
      "2 : [5, 3]\n",
      "3 : [5]\n",
      "False : [5]\n",
      "5 : []\n",
      "True : []\n",
      "<class '__main__.Empty'> : []\n",
      "None : [7]\n",
      "None : [7, 9]\n",
      "9 : [7, 9]\n",
      "None : [7, 9, 4]\n",
      "3 : [7, 9, 4]\n",
      "4 : [7, 9]\n",
      "None : [7, 9, 6]\n",
      "None : [7, 9, 6, 8]\n",
      "8 : [7, 9, 6]\n"
     ]
    }
   ],
   "source": [
    "S = Stack()\n",
    "out = S.push(5)\n",
    "print('{} : {}'.format(out, S))\n",
    "out = S.push(3)\n",
    "print('{} : {}'.format(out, S))\n",
    "out = len(S)\n",
    "print('{} : {}'.format(out, S))\n",
    "out = S.pop()\n",
    "print('{} : {}'.format(out, S))\n",
    "out = S.is_empty()\n",
    "print('{} : {}'.format(out, S))\n",
    "out = S.pop()\n",
    "print('{} : {}'.format(out, S))\n",
    "out = S.is_empty()\n",
    "print('{} : {}'.format(out, S))\n",
    "out = S.pop()\n",
    "print('{} : {}'.format(out, S))\n",
    "out = S.push(7)\n",
    "print('{} : {}'.format(out, S))\n",
    "out = S.push(9)\n",
    "print('{} : {}'.format(out, S))\n",
    "out = S.top()\n",
    "print('{} : {}'.format(out, S))\n",
    "out = S.push(4)\n",
    "print('{} : {}'.format(out, S))\n",
    "out = len(S)\n",
    "print('{} : {}'.format(out, S))\n",
    "out = S.pop()\n",
    "print('{} : {}'.format(out, S))\n",
    "out = S.push(6)\n",
    "print('{} : {}'.format(out, S))\n",
    "out = S.push(8)\n",
    "print('{} : {}'.format(out, S))\n",
    "out = S.pop()\n",
    "print('{} : {}'.format(out, S))"
   ]
  },
  {
   "cell_type": "code",
   "execution_count": null,
   "metadata": {},
   "outputs": [],
   "source": []
  }
 ],
 "metadata": {
  "kernelspec": {
   "display_name": "Python 3",
   "language": "python",
   "name": "python3"
  },
  "language_info": {
   "codemirror_mode": {
    "name": "ipython",
    "version": 3
   },
   "file_extension": ".py",
   "mimetype": "text/x-python",
   "name": "python",
   "nbconvert_exporter": "python",
   "pygments_lexer": "ipython3",
   "version": "3.7.4"
  }
 },
 "nbformat": 4,
 "nbformat_minor": 4
}
