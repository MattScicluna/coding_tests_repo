{
 "cells": [
  {
   "cell_type": "markdown",
   "metadata": {},
   "source": [
    "Examples from Chapter 2"
   ]
  },
  {
   "cell_type": "markdown",
   "metadata": {},
   "source": [
    "Shallow and Deep Copies"
   ]
  },
  {
   "cell_type": "code",
   "execution_count": 1,
   "metadata": {},
   "outputs": [
    {
     "name": "stdout",
     "output_type": "stream",
     "text": [
      "palette: [(249,124,43), (169,163,52)]\n",
      "warmtones: [(249,124,43), (169,163,52)]\n",
      "palette: [(249,124,43), (169,163,52), (0,0,0)]\n",
      "warmtones: [(249,124,43), (169,163,52), (0,0,0)]\n"
     ]
    }
   ],
   "source": [
    "import copy\n",
    "\n",
    "class colors():\n",
    "    def __init__(self, red, green, blue):\n",
    "        self._red, self._green, self._blue = red, green, blue\n",
    "    def __repr__(self):\n",
    "        return '(' + str(self._red) + ',' + str(self._green) + ',' + str(self._blue) + ')'\n",
    "\n",
    "warmtones = [colors(249, 124, 43), colors(169, 163, 52)]\n",
    "        \n",
    "palette = warmtones # alias\n",
    "\n",
    "print('palette: {}'.format(palette))\n",
    "print('warmtones: {}'.format(warmtones))\n",
    "\n",
    "palette.append(colors(0, 0, 0))\n",
    "\n",
    "print('palette: {}'.format(palette))\n",
    "print('warmtones: {}'.format(warmtones)) # both change!"
   ]
  },
  {
   "cell_type": "code",
   "execution_count": 2,
   "metadata": {},
   "outputs": [
    {
     "name": "stdout",
     "output_type": "stream",
     "text": [
      "palette: [(249,124,43), (169,163,52)]\n",
      "warmtones: [(249,124,43), (169,163,52)]\n",
      "palette: [(249,124,43), (169,163,52), (0,0,0)]\n",
      "warmtones: [(249,124,43), (169,163,52)]\n",
      "palette: [(255,124,43), (169,163,52), (0,0,0)]\n",
      "warmtones: [(255,124,43), (169,163,52)]\n"
     ]
    }
   ],
   "source": [
    "warmtones = [colors(249, 124, 43), colors(169, 163, 52)]\n",
    "        \n",
    "palette = list(warmtones) # shallow copy\n",
    "\n",
    "print('palette: {}'.format(palette))\n",
    "print('warmtones: {}'.format(warmtones))\n",
    "\n",
    "palette.append(colors(0, 0, 0))\n",
    "\n",
    "print('palette: {}'.format(palette))\n",
    "print('warmtones: {}'.format(warmtones)) # now only one changes!\n",
    "\n",
    "palette[0]._red = 255 # change attribute of entry in one list\n",
    "\n",
    "print('palette: {}'.format(palette))\n",
    "print('warmtones: {}'.format(warmtones)) # both changes!\n"
   ]
  },
  {
   "cell_type": "code",
   "execution_count": 3,
   "metadata": {},
   "outputs": [
    {
     "name": "stdout",
     "output_type": "stream",
     "text": [
      "palette: [(255,124,43), (169,163,52)]\n",
      "warmtones: [(249,124,43), (169,163,52)]\n"
     ]
    }
   ],
   "source": [
    "warmtones = [colors(249, 124, 43), colors(169, 163, 52)]\n",
    "palette = copy.deepcopy(warmtones) # deep copy\n",
    "\n",
    "palette[0]._red = 255 # change attribute of entry in one list\n",
    "\n",
    "print('palette: {}'.format(palette))\n",
    "print('warmtones: {}'.format(warmtones)) # only one changes!\n"
   ]
  },
  {
   "cell_type": "markdown",
   "metadata": {},
   "source": [
    "class inheritance namespaces"
   ]
  },
  {
   "cell_type": "code",
   "execution_count": 6,
   "metadata": {},
   "outputs": [],
   "source": [
    "class CreditCard():\n",
    "    __slots__ = '_balance', '_name' \n",
    "    \n",
    "    def __init__(self, name):\n",
    "        self._balance = 0\n",
    "        self._name = name\n",
    "    def charge(self, amount):\n",
    "        self._balance += amount\n",
    "\n",
    "class PredatoryCreditCard(CreditCard):\n",
    "    __slots__ = '_apr'\n",
    "    \n",
    "    OVERLIMIT_FEE = 5\n",
    "    \n",
    "    def __init__(self, name, apr):\n",
    "        super().__init__(name)\n",
    "        self._apr = apr\n",
    "    \n",
    "    def charge(self, price):\n",
    "        success = super().charge(price)\n",
    "        if not success:\n",
    "            self._balance += PredatoryCreditCard.OVERLIMIT_FEE\n",
    "        return success"
   ]
  },
  {
   "cell_type": "code",
   "execution_count": 5,
   "metadata": {},
   "outputs": [],
   "source": [
    "cc_instance = CreditCard('john doe')\n",
    "cc_instance.charge(4)\n",
    "\n",
    "pcc_instance = PredatoryCreditCard('john doe', 0.08)\n",
    "pcc_instance.charge(4)"
   ]
  },
  {
   "cell_type": "code",
   "execution_count": 7,
   "metadata": {},
   "outputs": [
    {
     "data": {
      "text/plain": [
       "['__class__',\n",
       " '__delattr__',\n",
       " '__dir__',\n",
       " '__doc__',\n",
       " '__eq__',\n",
       " '__format__',\n",
       " '__ge__',\n",
       " '__getattribute__',\n",
       " '__gt__',\n",
       " '__hash__',\n",
       " '__init__',\n",
       " '__init_subclass__',\n",
       " '__le__',\n",
       " '__lt__',\n",
       " '__module__',\n",
       " '__ne__',\n",
       " '__new__',\n",
       " '__reduce__',\n",
       " '__reduce_ex__',\n",
       " '__repr__',\n",
       " '__setattr__',\n",
       " '__sizeof__',\n",
       " '__slots__',\n",
       " '__str__',\n",
       " '__subclasshook__',\n",
       " '_balance',\n",
       " '_name',\n",
       " 'charge']"
      ]
     },
     "execution_count": 7,
     "metadata": {},
     "output_type": "execute_result"
    }
   ],
   "source": [
    "dir(cc_instance)"
   ]
  },
  {
   "cell_type": "code",
   "execution_count": 8,
   "metadata": {},
   "outputs": [
    {
     "data": {
      "text/plain": [
       "['OVERLIMIT_FEE',\n",
       " '__class__',\n",
       " '__delattr__',\n",
       " '__dir__',\n",
       " '__doc__',\n",
       " '__eq__',\n",
       " '__format__',\n",
       " '__ge__',\n",
       " '__getattribute__',\n",
       " '__gt__',\n",
       " '__hash__',\n",
       " '__init__',\n",
       " '__init_subclass__',\n",
       " '__le__',\n",
       " '__lt__',\n",
       " '__module__',\n",
       " '__ne__',\n",
       " '__new__',\n",
       " '__reduce__',\n",
       " '__reduce_ex__',\n",
       " '__repr__',\n",
       " '__setattr__',\n",
       " '__sizeof__',\n",
       " '__slots__',\n",
       " '__str__',\n",
       " '__subclasshook__',\n",
       " '_apr',\n",
       " '_balance',\n",
       " '_name',\n",
       " 'charge']"
      ]
     },
     "execution_count": 8,
     "metadata": {},
     "output_type": "execute_result"
    }
   ],
   "source": [
    "dir(pcc_instance)"
   ]
  },
  {
   "cell_type": "code",
   "execution_count": 9,
   "metadata": {},
   "outputs": [
    {
     "data": {
      "text/plain": [
       "['OVERLIMIT_FEE',\n",
       " '__class__',\n",
       " '__delattr__',\n",
       " '__dir__',\n",
       " '__doc__',\n",
       " '__eq__',\n",
       " '__format__',\n",
       " '__ge__',\n",
       " '__getattribute__',\n",
       " '__gt__',\n",
       " '__hash__',\n",
       " '__init__',\n",
       " '__init_subclass__',\n",
       " '__le__',\n",
       " '__lt__',\n",
       " '__module__',\n",
       " '__ne__',\n",
       " '__new__',\n",
       " '__reduce__',\n",
       " '__reduce_ex__',\n",
       " '__repr__',\n",
       " '__setattr__',\n",
       " '__sizeof__',\n",
       " '__slots__',\n",
       " '__str__',\n",
       " '__subclasshook__',\n",
       " '_apr',\n",
       " '_balance',\n",
       " '_name',\n",
       " 'charge']"
      ]
     },
     "execution_count": 9,
     "metadata": {},
     "output_type": "execute_result"
    }
   ],
   "source": [
    "dir(PredatoryCreditCard)"
   ]
  },
  {
   "cell_type": "code",
   "execution_count": 10,
   "metadata": {},
   "outputs": [
    {
     "data": {
      "text/plain": [
       "['__class__',\n",
       " '__delattr__',\n",
       " '__dir__',\n",
       " '__doc__',\n",
       " '__eq__',\n",
       " '__format__',\n",
       " '__ge__',\n",
       " '__getattribute__',\n",
       " '__gt__',\n",
       " '__hash__',\n",
       " '__init__',\n",
       " '__init_subclass__',\n",
       " '__le__',\n",
       " '__lt__',\n",
       " '__module__',\n",
       " '__ne__',\n",
       " '__new__',\n",
       " '__reduce__',\n",
       " '__reduce_ex__',\n",
       " '__repr__',\n",
       " '__setattr__',\n",
       " '__sizeof__',\n",
       " '__slots__',\n",
       " '__str__',\n",
       " '__subclasshook__',\n",
       " '_balance',\n",
       " '_name',\n",
       " 'charge']"
      ]
     },
     "execution_count": 10,
     "metadata": {},
     "output_type": "execute_result"
    }
   ],
   "source": [
    "dir(CreditCard)"
   ]
  },
  {
   "cell_type": "code",
   "execution_count": null,
   "metadata": {},
   "outputs": [],
   "source": []
  }
 ],
 "metadata": {
  "kernelspec": {
   "display_name": "Python 3",
   "language": "python",
   "name": "python3"
  },
  "language_info": {
   "codemirror_mode": {
    "name": "ipython",
    "version": 3
   },
   "file_extension": ".py",
   "mimetype": "text/x-python",
   "name": "python",
   "nbconvert_exporter": "python",
   "pygments_lexer": "ipython3",
   "version": "3.7.4"
  }
 },
 "nbformat": 4,
 "nbformat_minor": 4
}
