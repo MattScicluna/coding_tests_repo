{
 "cells": [
  {
   "cell_type": "markdown",
   "metadata": {},
   "source": [
    "# Object Oriented Programming\n",
    "\n",
    "This chapter is about object oriented design in Python. It covers the following things:\n",
    "\n",
    "1. Object Oriented Design\n",
    "2. Design Patterns\n",
    "3. Class Definitions\n",
    "4. Inheritance\n",
    "5. Namespaces\n",
    "6. Shallow and Deep copying\n",
    "\n",
    "For each of these, I've documented what Python is doing"
   ]
  },
  {
   "cell_type": "markdown",
   "metadata": {},
   "source": [
    "## 1. Object Oriented Design\n",
    "\n",
    "![](images/intro_image.png)"
   ]
  },
  {
   "cell_type": "markdown",
   "metadata": {},
   "source": [
    "## 2. Design Patterns\n",
    "\n",
    "**Design Patterns** are solutions to solving \"typical\" software design problems:\n",
    "* **Algorithm Design Patterns**: recursion, dynamic programming, divide and conquer, ...\n",
    "* **Software Engineering Design Patterns**: iterator, factory method, template method pattern, ..."
   ]
  },
  {
   "cell_type": "markdown",
   "metadata": {},
   "source": [
    "Some other ways to improve design:\n",
    "* Using CRC cards ([My Notes](https://drive.google.com/open?id=1cFfzWrWslTACrP_rlJB0Lgfd-xYwPjMV)):\n",
    "* Using UML Diagrams ([My Notes](https://drive.google.com/open?id=1lcylgtS136dCxLLpyKO1EnptSUD-Ub92)):\n",
    "* Writing Pseudo-Code\n",
    "* Maintaining good coding style ([PEP8](https://www.python.org/dev/peps/pep-0008/))\n",
    "* Docstrings ([PEP257](http://www.python.org/dev/peps/pep-0257/))"
   ]
  },
  {
   "cell_type": "markdown",
   "metadata": {},
   "source": [
    "## 3. Class Definitions\n",
    "\n",
    "Each class has some number of instantiations, which each have their own attributes (state). \n",
    "In the class definition, we have the `self` identifier to identify which instance is being invoked.\n",
    "\n",
    "Notice how you can assign attributes for the whole class, or qualify them using `self` so that they differ depending on the instance of the class."
   ]
  },
  {
   "cell_type": "code",
   "execution_count": 1,
   "metadata": {},
   "outputs": [
    {
     "name": "stdout",
     "output_type": "stream",
     "text": [
      "10 10\n",
      "42 10\n"
     ]
    }
   ],
   "source": [
    "class MyClass():\n",
    "    class_val = 10                       # same for all members of the class\n",
    "    def __init__(self, some_val):\n",
    "        self.instance_val = some_val     # different for each class member\n",
    "        \n",
    "instance_1 = MyClass(10)\n",
    "instance_2 = MyClass(42)\n",
    "\n",
    "print(instance_1.instance_val, instance_1.class_val)\n",
    "print(instance_2.instance_val, instance_2.class_val)"
   ]
  },
  {
   "cell_type": "markdown",
   "metadata": {},
   "source": [
    "We can overload Python's **Special Methods** . \n",
    "See the `vector` class from the Python Intro notebook for an example of a class where we defined `+`, `len`, ...\n",
    "\n",
    "The special methods are syntatic sugar: they call underlying methods, which are the ones you override in the class definition.\n",
    "See below for some examples of this:"
   ]
  },
  {
   "cell_type": "code",
   "execution_count": 2,
   "metadata": {},
   "outputs": [],
   "source": [
    "a = 2\n",
    "b = 2\n",
    "c = [1, 2, 3]\n",
    "def d(x):\n",
    "    return x+1\n",
    "e = iter(c)\n",
    "f = iter(c)\n",
    "\n",
    "#  Operators\n",
    "assert a + b == a.__add__(b)\n",
    "assert a * b == a.__mul__(b)\n",
    "\n",
    "#  Non-Operators\n",
    "assert c[0] == c.__getitem__(0)\n",
    "assert len(c) == c.__len__()\n",
    "assert d(42) == d.__call__(42)\n",
    "assert next(e) == f.__next__()  # need to initialize 2 iterators to test this"
   ]
  },
  {
   "cell_type": "markdown",
   "metadata": {},
   "source": [
    "## 4. Inheritance\n",
    "\n",
    "![](images/Exception_image.png)"
   ]
  },
  {
   "cell_type": "markdown",
   "metadata": {},
   "source": [
    "Here is an example of a class `PredatoryCreditCard`, which inherits from superclass `CreditCard`"
   ]
  },
  {
   "cell_type": "code",
   "execution_count": 3,
   "metadata": {},
   "outputs": [],
   "source": [
    "class CreditCard():\n",
    "    __slots__ = '_balance', '_name', '_limit' \n",
    "    \n",
    "    def __init__(self, name, limit=500):\n",
    "        self._balance = 0\n",
    "        self._name = name\n",
    "        self._limit = limit\n",
    "    def charge(self, price):\n",
    "        \"\"\"\n",
    "        Charge given price to the card, assuming sufficient credit limit.\n",
    "        Return True if charge was processed; False if charge was denied.\n",
    "        \"\"\"\n",
    "        if price + self._balance > self._limit: # if charge would exceed limit,\n",
    "            return False # cannot accept charge\n",
    "        else:\n",
    "            self._balance += price\n",
    "            return True\n",
    "        \n",
    "    def make_payment(self, amount):\n",
    "        \"\"\"\n",
    "        Process customer payment that reduces balance.\n",
    "        \"\"\"\n",
    "        self._balance -= amount\n",
    "    \n",
    "    def get_balance(self):\n",
    "        return('${}'.format(self._balance))\n",
    "\n",
    "\n",
    "class PredatoryCreditCard(CreditCard):\n",
    "    __slots__ = '_apr'\n",
    "    \n",
    "    OVERLIMIT_FEE = 5\n",
    "    \n",
    "    def __init__(self, name, limit=500, apr=0.15):\n",
    "        super().__init__(name, limit)\n",
    "        self._apr = apr\n",
    "    \n",
    "    def charge(self, price):\n",
    "        success = super().charge(price)\n",
    "        if not success:\n",
    "            self._balance += PredatoryCreditCard.OVERLIMIT_FEE\n",
    "        return success"
   ]
  },
  {
   "cell_type": "markdown",
   "metadata": {},
   "source": [
    "## 5. Namespaces\n",
    "\n",
    "![](images/Namespace_image.png)"
   ]
  },
  {
   "cell_type": "code",
   "execution_count": 4,
   "metadata": {},
   "outputs": [
    {
     "name": "stdout",
     "output_type": "stream",
     "text": [
      "result of transaction for cc_instance: $0\n",
      "result of transaction for pcc_instance: $5\n"
     ]
    }
   ],
   "source": [
    "cc_instance = CreditCard(name='john doe')\n",
    "cc_instance.charge(4000)\n",
    "print('result of transaction for cc_instance: {}'.format(cc_instance.get_balance()))\n",
    "\n",
    "pcc_instance = PredatoryCreditCard(name='john doe', apr=0.08)\n",
    "pcc_instance.charge(4000)\n",
    "print('result of transaction for pcc_instance: {}'.format(pcc_instance.get_balance()))"
   ]
  },
  {
   "cell_type": "markdown",
   "metadata": {},
   "source": [
    "Notice how the `charge` method was changed in the subclass!\n",
    "\n",
    "The namespaces of classes (as well as functions) can be accessed using `dir` and `var`."
   ]
  },
  {
   "cell_type": "code",
   "execution_count": 5,
   "metadata": {},
   "outputs": [
    {
     "name": "stdout",
     "output_type": "stream",
     "text": [
      "in pcc_instance but not in cc_instance: {'OVERLIMIT_FEE', '_apr'}\n",
      "in PredatoryCreditCard but not in CreditCard: {'OVERLIMIT_FEE', '_apr'}\n",
      "in pcc_instance but not in PredatoryCreditCard: set()\n"
     ]
    }
   ],
   "source": [
    "print('in pcc_instance but not in cc_instance: {}'.format(set(dir(pcc_instance)).difference(set(dir(cc_instance)))))\n",
    "print('in PredatoryCreditCard but not in CreditCard: {}'.format(set(dir(PredatoryCreditCard)).difference(set(dir(CreditCard)))))\n",
    "print('in pcc_instance but not in PredatoryCreditCard: {}'.format(set(dir(pcc_instance)).difference(set(dir(PredatoryCreditCard)))))"
   ]
  },
  {
   "cell_type": "markdown",
   "metadata": {},
   "source": [
    "Notice the differences in which methods appear in the class vs subclass namespaces.\n",
    "\n",
    "Related but distinct of inheritance: you can have classes nested in other classes. This will be useful for Linked Lists, Trees, etc ..."
   ]
  },
  {
   "cell_type": "code",
   "execution_count": 6,
   "metadata": {},
   "outputs": [],
   "source": [
    "## outer class\n",
    "class Outer:\n",
    "\n",
    "    ## inner class\n",
    "    class Inner:\n",
    "        pass"
   ]
  },
  {
   "cell_type": "markdown",
   "metadata": {},
   "source": [
    "To retrieve a name in Pythons object-oriented framework (say, `foo.bar`), the interpreter:\n",
    "\n",
    "   1. Searches the instance namespace. If the name is found, the value is used…\n",
    "   2. Otherwise, searches the class namespace. If still not found…\n",
    "   3. Searches upwards through the inheritance hierarchy… \n",
    "   4. If the name is not found, an `AttributeError` is raised.\n",
    "\n",
    "Note that this means that methods and attributes of a superclass can be overridden by a subclass (which is what we did with the `charge` method above).\n"
   ]
  },
  {
   "cell_type": "markdown",
   "metadata": {},
   "source": [
    "## 6. Shallow and Deep Copies\n",
    "\n",
    "We create a `colors` class which contains attributes `red`, `green` and `blue`.\n",
    "We assign identifier `warmtones` to an instantiation of the class."
   ]
  },
  {
   "cell_type": "code",
   "execution_count": 7,
   "metadata": {},
   "outputs": [],
   "source": [
    "import copy\n",
    "\n",
    "class colors():\n",
    "    def __init__(self, red, green, blue):\n",
    "        self._red, self._green, self._blue = red, green, blue\n",
    "    def __repr__(self):\n",
    "        return '(' + str(self._red) + ',' + str(self._green) + ',' + str(self._blue) + ')'\n",
    "\n",
    "warmtones = [colors(249, 124, 43), colors(169, 163, 52)]"
   ]
  },
  {
   "cell_type": "markdown",
   "metadata": {},
   "source": [
    "We add the alias `palette`. Changing the underyling object of one changes the other, as expected."
   ]
  },
  {
   "cell_type": "code",
   "execution_count": 8,
   "metadata": {},
   "outputs": [
    {
     "name": "stdout",
     "output_type": "stream",
     "text": [
      "before: palette: [(249,124,43), (169,163,52)]\n",
      "before: warmtones: [(249,124,43), (169,163,52)]\n",
      "after: palette: [(249,124,43), (169,163,52), (0,0,0)]\n",
      "after: warmtones: [(249,124,43), (169,163,52), (0,0,0)]\n"
     ]
    }
   ],
   "source": [
    "palette = warmtones # alias\n",
    "\n",
    "print('before: palette: {}'.format(palette))\n",
    "print('before: warmtones: {}'.format(warmtones))\n",
    "\n",
    "palette.append(colors(0, 0, 0))\n",
    "\n",
    "print('after: palette: {}'.format(palette))\n",
    "print('after: warmtones: {}'.format(warmtones)) # both change!"
   ]
  },
  {
   "cell_type": "markdown",
   "metadata": {},
   "source": [
    "For shallow copies, the lists are seperate, so appending to one doesn't append to the other.\n",
    "The objects in the list are aliases though, so changing one _does_ change the other!"
   ]
  },
  {
   "cell_type": "code",
   "execution_count": 9,
   "metadata": {},
   "outputs": [
    {
     "name": "stdout",
     "output_type": "stream",
     "text": [
      "before: palette: [(249,124,43), (169,163,52)]\n",
      "before: warmtones: [(249,124,43), (169,163,52)]\n",
      "after adding element: palette: [(249,124,43), (169,163,52), (0,0,0)]\n",
      "after adding element: warmtones: [(249,124,43), (169,163,52)]\n",
      "after mutating element: palette: [(255,124,43), (169,163,52), (0,0,0)]\n",
      "after mutating element: warmtones: [(255,124,43), (169,163,52)]\n"
     ]
    }
   ],
   "source": [
    "warmtones = [colors(249, 124, 43), colors(169, 163, 52)]\n",
    "        \n",
    "palette = list(warmtones) # shallow copy\n",
    "\n",
    "print('before: palette: {}'.format(palette))\n",
    "print('before: warmtones: {}'.format(warmtones))\n",
    "\n",
    "palette.append(colors(0, 0, 0))\n",
    "\n",
    "print('after adding element: palette: {}'.format(palette))\n",
    "print('after adding element: warmtones: {}'.format(warmtones)) # now only one changes!\n",
    "\n",
    "palette[0]._red = 255 # change attribute of entry in one list\n",
    "\n",
    "print('after mutating element: palette: {}'.format(palette))\n",
    "print('after mutating element: warmtones: {}'.format(warmtones)) # both changes!\n"
   ]
  },
  {
   "cell_type": "markdown",
   "metadata": {},
   "source": [
    "With deep copies this isn't the case. We can mutate the elements of one list without mutating the other."
   ]
  },
  {
   "cell_type": "code",
   "execution_count": 10,
   "metadata": {},
   "outputs": [
    {
     "name": "stdout",
     "output_type": "stream",
     "text": [
      "palette: [(255,124,43), (169,163,52)]\n",
      "warmtones: [(249,124,43), (169,163,52)]\n"
     ]
    }
   ],
   "source": [
    "warmtones = [colors(249, 124, 43), colors(169, 163, 52)]\n",
    "palette = copy.deepcopy(warmtones) # deep copy\n",
    "\n",
    "palette[0]._red = 255 # change attribute of entry in one list\n",
    "\n",
    "print('palette: {}'.format(palette))\n",
    "print('warmtones: {}'.format(warmtones)) # only one changes!"
   ]
  },
  {
   "cell_type": "markdown",
   "metadata": {},
   "source": [
    "See this picture for a visualization of this:"
   ]
  }
 ],
 "metadata": {
  "kernelspec": {
   "display_name": "Python 3",
   "language": "python",
   "name": "python3"
  },
  "language_info": {
   "codemirror_mode": {
    "name": "ipython",
    "version": 3
   },
   "file_extension": ".py",
   "mimetype": "text/x-python",
   "name": "python",
   "nbconvert_exporter": "python",
   "pygments_lexer": "ipython3",
   "version": "3.7.4"
  }
 },
 "nbformat": 4,
 "nbformat_minor": 4
}
