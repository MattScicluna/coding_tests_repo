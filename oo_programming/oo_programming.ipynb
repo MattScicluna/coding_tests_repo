{
 "cells": [
  {
   "cell_type": "markdown",
   "metadata": {},
   "source": [
    "# Object Oriented Programming\n",
    "\n",
    "In this notebook I have examples to illustrate object oriented themes in Python. This notebook covers the following things:\n",
    "\n",
    "1. Shallow and Deep copying\n",
    "2. Namespaces\n",
    "\n",
    "For each of these, I've documented what Python is doing"
   ]
  },
  {
   "cell_type": "markdown",
   "metadata": {},
   "source": [
    "## Shallow and Deep Copies\n",
    "\n",
    "We create a `colors` class which contains attributes `red`, `green` and `blue`.\n",
    "We assign identifier `warmtones` to an instantiation of the class."
   ]
  },
  {
   "cell_type": "code",
   "execution_count": 1,
   "metadata": {},
   "outputs": [],
   "source": [
    "import copy\n",
    "\n",
    "class colors():\n",
    "    def __init__(self, red, green, blue):\n",
    "        self._red, self._green, self._blue = red, green, blue\n",
    "    def __repr__(self):\n",
    "        return '(' + str(self._red) + ',' + str(self._green) + ',' + str(self._blue) + ')'\n",
    "\n",
    "warmtones = [colors(249, 124, 43), colors(169, 163, 52)]"
   ]
  },
  {
   "cell_type": "markdown",
   "metadata": {},
   "source": [
    "We add the alias `palette`. Changing the underyling object of one changes the other, as expected."
   ]
  },
  {
   "cell_type": "code",
   "execution_count": 3,
   "metadata": {},
   "outputs": [
    {
     "name": "stdout",
     "output_type": "stream",
     "text": [
      "before: palette: [(249,124,43), (169,163,52), (0,0,0)]\n",
      "before: warmtones: [(249,124,43), (169,163,52), (0,0,0)]\n",
      "after: palette: [(249,124,43), (169,163,52), (0,0,0), (0,0,0)]\n",
      "after: warmtones: [(249,124,43), (169,163,52), (0,0,0), (0,0,0)]\n"
     ]
    }
   ],
   "source": [
    "palette = warmtones # alias\n",
    "\n",
    "print('before: palette: {}'.format(palette))\n",
    "print('before: warmtones: {}'.format(warmtones))\n",
    "\n",
    "palette.append(colors(0, 0, 0))\n",
    "\n",
    "print('after: palette: {}'.format(palette))\n",
    "print('after: warmtones: {}'.format(warmtones)) # both change!"
   ]
  },
  {
   "cell_type": "markdown",
   "metadata": {},
   "source": [
    "For shallow copies, the lists are seperate, so appending to one doesn't append to the other.\n",
    "The objects in the list are aliases though, so changing one _does_ change the other!"
   ]
  },
  {
   "cell_type": "code",
   "execution_count": 4,
   "metadata": {},
   "outputs": [
    {
     "name": "stdout",
     "output_type": "stream",
     "text": [
      "before: palette: [(249,124,43), (169,163,52)]\n",
      "before: warmtones: [(249,124,43), (169,163,52)]\n",
      "after adding element: palette: [(249,124,43), (169,163,52), (0,0,0)]\n",
      "after adding element: warmtones: [(249,124,43), (169,163,52)]\n",
      "after mutating element: palette: [(255,124,43), (169,163,52), (0,0,0)]\n",
      "after mutating element: warmtones: [(255,124,43), (169,163,52)]\n"
     ]
    }
   ],
   "source": [
    "warmtones = [colors(249, 124, 43), colors(169, 163, 52)]\n",
    "        \n",
    "palette = list(warmtones) # shallow copy\n",
    "\n",
    "print('before: palette: {}'.format(palette))\n",
    "print('before: warmtones: {}'.format(warmtones))\n",
    "\n",
    "palette.append(colors(0, 0, 0))\n",
    "\n",
    "print('after adding element: palette: {}'.format(palette))\n",
    "print('after adding element: warmtones: {}'.format(warmtones)) # now only one changes!\n",
    "\n",
    "palette[0]._red = 255 # change attribute of entry in one list\n",
    "\n",
    "print('after mutating element: palette: {}'.format(palette))\n",
    "print('after mutating element: warmtones: {}'.format(warmtones)) # both changes!\n"
   ]
  },
  {
   "cell_type": "markdown",
   "metadata": {},
   "source": [
    "With deep copies this isn't the case. We can mutate the elements of one list without mutating the other."
   ]
  },
  {
   "cell_type": "code",
   "execution_count": null,
   "metadata": {},
   "outputs": [],
   "source": [
    "warmtones = [colors(249, 124, 43), colors(169, 163, 52)]\n",
    "palette = copy.deepcopy(warmtones) # deep copy\n",
    "\n",
    "palette[0]._red = 255 # change attribute of entry in one list\n",
    "\n",
    "print('palette: {}'.format(palette))\n",
    "print('warmtones: {}'.format(warmtones)) # only one changes!\n"
   ]
  },
  {
   "cell_type": "markdown",
   "metadata": {},
   "source": [
    "# Namespaces\n",
    "\n",
    "The namespaces of classes (as well as functions) can be accessed using `dir` and `var`"
   ]
  },
  {
   "cell_type": "code",
   "execution_count": 5,
   "metadata": {},
   "outputs": [],
   "source": [
    "class CreditCard():\n",
    "    __slots__ = '_balance', '_name' \n",
    "    \n",
    "    def __init__(self, name):\n",
    "        self._balance = 0\n",
    "        self._name = name\n",
    "    def charge(self, amount):\n",
    "        self._balance += amount\n",
    "\n",
    "class PredatoryCreditCard(CreditCard):\n",
    "    __slots__ = '_apr'\n",
    "    \n",
    "    OVERLIMIT_FEE = 5\n",
    "    \n",
    "    def __init__(self, name, apr):\n",
    "        super().__init__(name)\n",
    "        self._apr = apr\n",
    "    \n",
    "    def charge(self, price):\n",
    "        success = super().charge(price)\n",
    "        if not success:\n",
    "            self._balance += PredatoryCreditCard.OVERLIMIT_FEE\n",
    "        return success"
   ]
  },
  {
   "cell_type": "code",
   "execution_count": 6,
   "metadata": {},
   "outputs": [],
   "source": [
    "cc_instance = CreditCard('john doe')\n",
    "cc_instance.charge(4)\n",
    "\n",
    "pcc_instance = PredatoryCreditCard('john doe', 0.08)\n",
    "pcc_instance.charge(4)"
   ]
  },
  {
   "cell_type": "markdown",
   "metadata": {},
   "source": [
    "Notice the differences in which methods appear in the class vs subclass namespaces"
   ]
  },
  {
   "cell_type": "code",
   "execution_count": 7,
   "metadata": {},
   "outputs": [
    {
     "data": {
      "text/plain": [
       "['__class__',\n",
       " '__delattr__',\n",
       " '__dir__',\n",
       " '__doc__',\n",
       " '__eq__',\n",
       " '__format__',\n",
       " '__ge__',\n",
       " '__getattribute__',\n",
       " '__gt__',\n",
       " '__hash__',\n",
       " '__init__',\n",
       " '__init_subclass__',\n",
       " '__le__',\n",
       " '__lt__',\n",
       " '__module__',\n",
       " '__ne__',\n",
       " '__new__',\n",
       " '__reduce__',\n",
       " '__reduce_ex__',\n",
       " '__repr__',\n",
       " '__setattr__',\n",
       " '__sizeof__',\n",
       " '__slots__',\n",
       " '__str__',\n",
       " '__subclasshook__',\n",
       " '_balance',\n",
       " '_name',\n",
       " 'charge']"
      ]
     },
     "execution_count": 7,
     "metadata": {},
     "output_type": "execute_result"
    }
   ],
   "source": [
    "dir(cc_instance)"
   ]
  },
  {
   "cell_type": "code",
   "execution_count": 8,
   "metadata": {},
   "outputs": [
    {
     "data": {
      "text/plain": [
       "['OVERLIMIT_FEE',\n",
       " '__class__',\n",
       " '__delattr__',\n",
       " '__dir__',\n",
       " '__doc__',\n",
       " '__eq__',\n",
       " '__format__',\n",
       " '__ge__',\n",
       " '__getattribute__',\n",
       " '__gt__',\n",
       " '__hash__',\n",
       " '__init__',\n",
       " '__init_subclass__',\n",
       " '__le__',\n",
       " '__lt__',\n",
       " '__module__',\n",
       " '__ne__',\n",
       " '__new__',\n",
       " '__reduce__',\n",
       " '__reduce_ex__',\n",
       " '__repr__',\n",
       " '__setattr__',\n",
       " '__sizeof__',\n",
       " '__slots__',\n",
       " '__str__',\n",
       " '__subclasshook__',\n",
       " '_apr',\n",
       " '_balance',\n",
       " '_name',\n",
       " 'charge']"
      ]
     },
     "execution_count": 8,
     "metadata": {},
     "output_type": "execute_result"
    }
   ],
   "source": [
    "dir(pcc_instance)"
   ]
  },
  {
   "cell_type": "code",
   "execution_count": 9,
   "metadata": {},
   "outputs": [
    {
     "data": {
      "text/plain": [
       "['OVERLIMIT_FEE',\n",
       " '__class__',\n",
       " '__delattr__',\n",
       " '__dir__',\n",
       " '__doc__',\n",
       " '__eq__',\n",
       " '__format__',\n",
       " '__ge__',\n",
       " '__getattribute__',\n",
       " '__gt__',\n",
       " '__hash__',\n",
       " '__init__',\n",
       " '__init_subclass__',\n",
       " '__le__',\n",
       " '__lt__',\n",
       " '__module__',\n",
       " '__ne__',\n",
       " '__new__',\n",
       " '__reduce__',\n",
       " '__reduce_ex__',\n",
       " '__repr__',\n",
       " '__setattr__',\n",
       " '__sizeof__',\n",
       " '__slots__',\n",
       " '__str__',\n",
       " '__subclasshook__',\n",
       " '_apr',\n",
       " '_balance',\n",
       " '_name',\n",
       " 'charge']"
      ]
     },
     "execution_count": 9,
     "metadata": {},
     "output_type": "execute_result"
    }
   ],
   "source": [
    "dir(PredatoryCreditCard)"
   ]
  },
  {
   "cell_type": "code",
   "execution_count": 10,
   "metadata": {},
   "outputs": [
    {
     "data": {
      "text/plain": [
       "['__class__',\n",
       " '__delattr__',\n",
       " '__dir__',\n",
       " '__doc__',\n",
       " '__eq__',\n",
       " '__format__',\n",
       " '__ge__',\n",
       " '__getattribute__',\n",
       " '__gt__',\n",
       " '__hash__',\n",
       " '__init__',\n",
       " '__init_subclass__',\n",
       " '__le__',\n",
       " '__lt__',\n",
       " '__module__',\n",
       " '__ne__',\n",
       " '__new__',\n",
       " '__reduce__',\n",
       " '__reduce_ex__',\n",
       " '__repr__',\n",
       " '__setattr__',\n",
       " '__sizeof__',\n",
       " '__slots__',\n",
       " '__str__',\n",
       " '__subclasshook__',\n",
       " '_balance',\n",
       " '_name',\n",
       " 'charge']"
      ]
     },
     "execution_count": 10,
     "metadata": {},
     "output_type": "execute_result"
    }
   ],
   "source": [
    "dir(CreditCard)"
   ]
  },
  {
   "cell_type": "code",
   "execution_count": null,
   "metadata": {},
   "outputs": [],
   "source": []
  }
 ],
 "metadata": {
  "kernelspec": {
   "display_name": "Python 3",
   "language": "python",
   "name": "python3"
  },
  "language_info": {
   "codemirror_mode": {
    "name": "ipython",
    "version": 3
   },
   "file_extension": ".py",
   "mimetype": "text/x-python",
   "name": "python",
   "nbconvert_exporter": "python",
   "pygments_lexer": "ipython3",
   "version": "3.7.4"
  }
 },
 "nbformat": 4,
 "nbformat_minor": 4
}
