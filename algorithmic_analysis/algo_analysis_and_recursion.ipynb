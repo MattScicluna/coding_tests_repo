{
 "cells": [
  {
   "cell_type": "markdown",
   "metadata": {},
   "source": [
    "# Algorithm Analysis\n",
    "\n",
    "This notebook describes Algorithmic Analysis in Python and Recursion. It covers the following:\n",
    "\n",
    "1. Algorithm Analysis\n",
    "2. \"Big-Oh\" Notation\n",
    "3. Computing Runtimes\n",
    "4. Loop Invariants\n",
    "5. Factorial Function\n",
    "6. Binary Search\n",
    "7. Disk Utility Function\n",
    "8. Inefficient Use of Recursion\n",
    "9. Different Kinds of Recursion\n",
    "\n",
    "For each concept, there are Python examples which help illustrate the ideas."
   ]
  },
  {
   "cell_type": "markdown",
   "metadata": {},
   "source": [
    "## 1. Algorithm Analysis\n",
    "\n",
    "![](images/algo_intro.png)"
   ]
  },
  {
   "cell_type": "markdown",
   "metadata": {},
   "source": [
    "## 2. \"Big-Oh\" Notation\n",
    "\n",
    "![](images/orders_table.png)"
   ]
  },
  {
   "cell_type": "markdown",
   "metadata": {},
   "source": [
    "See [my notes on computational complexity theory](https://drive.google.com/open?id=1OOlB41DjdCGSzuiSFz9DlQr2TlTSp7aE) for some examples of these.\n",
    "\n",
    "![](images/orders_table2.png)"
   ]
  },
  {
   "cell_type": "markdown",
   "metadata": {},
   "source": [
    "## 3. Computing Runtimes\n",
    "\n",
    "We have the following examples:\n",
    "* Three way set disjointness\n",
    "* element Uniqueness\n",
    "\n",
    "Notice that in each version of these algorithms, we count the steps (to empirically verify the different in runtime)"
   ]
  },
  {
   "cell_type": "markdown",
   "metadata": {},
   "source": [
    "### Three way set disjointness\n",
    "\n",
    "Consider the following algorithms for computing whether 3 sets do not share a common element. "
   ]
  },
  {
   "cell_type": "code",
   "execution_count": 1,
   "metadata": {},
   "outputs": [],
   "source": [
    "def disjoint1(A, B, C):\n",
    "    \"\"\"Return True if there is no element common to all three lists.\"\"\"\n",
    "    i=0\n",
    "    for a in A:\n",
    "        for b in B:\n",
    "            for c in C:\n",
    "                i += 1\n",
    "                if a == b == c:\n",
    "                    print('took {} steps'.format(i))\n",
    "                    return False # we found a common value\n",
    "    print('took {} steps'.format(i))\n",
    "    return True"
   ]
  },
  {
   "cell_type": "code",
   "execution_count": 2,
   "metadata": {},
   "outputs": [],
   "source": [
    "def disjoint2(A, B, C):\n",
    "    \"\"\"Return True if there is no element common to all three lists.\"\"\"\n",
    "    i=0\n",
    "    for a in A:\n",
    "        for b in B:\n",
    "            i += 1\n",
    "            if a == b: # only check C if we found match from A and B\n",
    "                for c in C:\n",
    "                    i += 1\n",
    "                    if a == c: # (and thus a == b == c)\n",
    "                        print('took {} steps'.format(i))\n",
    "                        return False # we found a common value\n",
    "    print('took {} steps'.format(i))\n",
    "    return True # if we reach this, sets are disjoint"
   ]
  },
  {
   "cell_type": "markdown",
   "metadata": {},
   "source": [
    "`disjoint1` should take $O(n^3)$ steps to run, why?\n",
    "\n",
    "* the outermost loop is $O(n)$\n",
    "* for each of the $O(n)$ iterations, another loop is run, which is $O(n)$ (so $O(n^2)$ total)\n",
    "* for each of $O(n^2)$ iterations, a third loop is run, for a total of $O(n^3)$ iterations\n",
    "\n",
    "We verify this empirically:"
   ]
  },
  {
   "cell_type": "code",
   "execution_count": 3,
   "metadata": {},
   "outputs": [
    {
     "name": "stdout",
     "output_type": "stream",
     "text": [
      "took 125 steps\n"
     ]
    },
    {
     "data": {
      "text/plain": [
       "True"
      ]
     },
     "execution_count": 3,
     "metadata": {},
     "output_type": "execute_result"
    }
   ],
   "source": [
    "disjoint1({1,2,3,4,5},{6,7,8,9,10},{11,12,13,14,15})"
   ]
  },
  {
   "cell_type": "markdown",
   "metadata": {},
   "source": [
    "`disjoint2` should take $O(n^2)$ steps to run, why?\n",
    "\n",
    "* the outermost loop is $O(n)$\n",
    "* for each of the $O(n)$ iterations, another loop is run, which is $O(n)$ (so $O(n^2)$ total)\n",
    "* Not always will the innermost loop run. It will run at most $n$ times (if $A\\subseteq B$ or $B \\subseteq A$)\n",
    "* For each of the (at most) $O(n)$ iterations when $a==b$, a third loop is run, for a total of $O(n^2)$ iterations\n",
    "\n",
    "Hence, $O(n^2)+O(n^2)$ is $O(n^2)$"
   ]
  },
  {
   "cell_type": "markdown",
   "metadata": {},
   "source": [
    "We validate this empirically:\n",
    "\n",
    "1) When all 3 sets disjoint scenerio, this does very well since the inner loop never executes."
   ]
  },
  {
   "cell_type": "code",
   "execution_count": 4,
   "metadata": {},
   "outputs": [
    {
     "name": "stdout",
     "output_type": "stream",
     "text": [
      "took 25 steps\n"
     ]
    },
    {
     "data": {
      "text/plain": [
       "True"
      ]
     },
     "execution_count": 4,
     "metadata": {},
     "output_type": "execute_result"
    }
   ],
   "source": [
    "disjoint2({1,2,3,4,5},{6,7,8,9,10},{11,12,13,14,15})"
   ]
  },
  {
   "cell_type": "markdown",
   "metadata": {},
   "source": [
    "2) Worst case scenerio. Notice the inner loop executes all $n$ times"
   ]
  },
  {
   "cell_type": "code",
   "execution_count": 5,
   "metadata": {},
   "outputs": [
    {
     "name": "stdout",
     "output_type": "stream",
     "text": [
      "took 50 steps\n"
     ]
    },
    {
     "data": {
      "text/plain": [
       "True"
      ]
     },
     "execution_count": 5,
     "metadata": {},
     "output_type": "execute_result"
    }
   ],
   "source": [
    "disjoint2({1,2,3,4,5},{1,2,3,4,5},{11,12,13,14,15})"
   ]
  },
  {
   "cell_type": "markdown",
   "metadata": {},
   "source": [
    "3) Best case scenerio. A common value is immediately found"
   ]
  },
  {
   "cell_type": "code",
   "execution_count": 6,
   "metadata": {},
   "outputs": [
    {
     "name": "stdout",
     "output_type": "stream",
     "text": [
      "took 2 steps\n"
     ]
    },
    {
     "data": {
      "text/plain": [
       "False"
      ]
     },
     "execution_count": 6,
     "metadata": {},
     "output_type": "execute_result"
    }
   ],
   "source": [
    "disjoint2({1,2,3,4,5},{1,2,3,4,5},{1,2,3,4,5})"
   ]
  },
  {
   "cell_type": "markdown",
   "metadata": {},
   "source": [
    "### Element Uniqueness\n",
    "\n",
    "Consider the following algorithm for computing whether there are any duplicate elements in a sequence"
   ]
  },
  {
   "cell_type": "code",
   "execution_count": 7,
   "metadata": {},
   "outputs": [],
   "source": [
    "def unique2(S):\n",
    "    \"\"\"Return True if there are no duplicate elements in sequence S.\"\"\"\n",
    "    i = 0\n",
    "    for j in range(len(S)):\n",
    "        for k in range(j+1, len(S)):\n",
    "            i += 1\n",
    "            if S[j] == S[k]:\n",
    "                print('took {} steps'.format(i))\n",
    "                return False # found duplicate pair\n",
    "    print('took {} steps'.format(i))\n",
    "    return True # if we reach this, elements were unique"
   ]
  },
  {
   "cell_type": "markdown",
   "metadata": {},
   "source": [
    "`unique2` should take $O(n^2)$ steps to run. Why?\n",
    "* Notice that during the $j^{th}$ iteration of the outer loop, the inner loop is executed at most $j-1$ times.\n",
    "* So the total number of iterations of the loops are: $1+2+...+(n-1) = \\frac{n(n-1)}{2}-n$, which is $O(n^2)$\n",
    "\n",
    "We confirm this empirically"
   ]
  },
  {
   "cell_type": "code",
   "execution_count": 8,
   "metadata": {},
   "outputs": [
    {
     "name": "stdout",
     "output_type": "stream",
     "text": [
      "took 45 steps\n"
     ]
    },
    {
     "data": {
      "text/plain": [
       "True"
      ]
     },
     "execution_count": 8,
     "metadata": {},
     "output_type": "execute_result"
    }
   ],
   "source": [
    "unique2('abcdefghij')"
   ]
  },
  {
   "cell_type": "markdown",
   "metadata": {},
   "source": [
    "Indeed, it took $\\frac{10\\cdot9}{2}=45$ steps to run"
   ]
  },
  {
   "cell_type": "markdown",
   "metadata": {},
   "source": [
    "Aside: We can see the low level code using the `dis` module"
   ]
  },
  {
   "cell_type": "code",
   "execution_count": 9,
   "metadata": {},
   "outputs": [],
   "source": [
    "#import dis\n",
    "#dis.dis(disjoint1)"
   ]
  },
  {
   "cell_type": "markdown",
   "metadata": {},
   "source": [
    "## 4. Loop Invariants\n",
    "\n",
    "We can use loop invariants to prove things about a loop $L$.\n",
    "To use it, define $L$ in terms of $L_0, L_1, ..., L_k$ where:\n",
    "* $L_0$ is true before the loop begins\n",
    "* If $L_{j-1}$ is true before iteration $j$, then $L_j$ will be true after iteration $j$\n",
    "* $L_k \\Rightarrow L$\n",
    "\n",
    "Note: the loop need not have a predefined length, so $k$ just needs to be the iteration at which the algorithm terminates\n",
    "\n",
    "Consider the following example."
   ]
  },
  {
   "cell_type": "code",
   "execution_count": 10,
   "metadata": {},
   "outputs": [],
   "source": [
    "def find(S, val):\n",
    "    \"\"\"Return smallest index j such that S[j] == val, or -1 if no such element.\"\"\"\n",
    "    n = len(S)\n",
    "    j = 0\n",
    "    while j < n:\n",
    "        if S[j] == val:\n",
    "            return j # a match was found at index j\n",
    "        j += 1\n",
    "    return -1"
   ]
  },
  {
   "cell_type": "markdown",
   "metadata": {},
   "source": [
    "Let $L$ be \"the following algorithm is correct\". We use loop invariants to prove this statement.\n",
    "\n",
    "Let $L_j$  be \"$S[i]\\ne$ val $\\forall i\\le j$ at the beginning of iteration j of the while loop\" \n",
    "\n",
    "We have that:\n",
    "* $L_0$  is true trivially, since there are no elements to compare to val\n",
    "* Let $L_{j-1}$  be true before iteration $j$. There are two cases:\n",
    "    * If $S[j]\\ne$ val, then $L_j$  is satisfied, since $S[i]\\ne$ val  $\\forall i \\le j-1$ and for j\n",
    "    * If $S[j]=$val, then the algorithm terminates, and $L_j\\Rightarrow L$ (since the algorithm correctly returns j)\n",
    "* If $L_n$  is true,  val $\\notin S$, so $L_n \\Rightarrow L$ (since the algorithm correctly returns −1)"
   ]
  },
  {
   "cell_type": "markdown",
   "metadata": {},
   "source": [
    "## 5. Factorial Function\n",
    "\n",
    "The factorial function is one of the easiest recursions, so we analyze it first."
   ]
  },
  {
   "cell_type": "code",
   "execution_count": 11,
   "metadata": {},
   "outputs": [],
   "source": [
    "def factorial(n):\n",
    "    if n==0:\n",
    "        return 1\n",
    "    else:\n",
    "        return n*factorial(n-1)"
   ]
  },
  {
   "cell_type": "markdown",
   "metadata": {},
   "source": [
    "Each time a function is called, a structure called a **frame** is created, which contains information about the execution of the function (including a namespace).\n",
    "\n",
    "When there is nested function calls, the \"outer\" function call is suspended, and the frame stores where to resume once the \"inner\" function call finishes.\n",
    "\n",
    "_The inner call will have its own frame!_\n",
    "\n",
    "\n",
    "\n",
    "![](images/factorial_trace.png)"
   ]
  },
  {
   "cell_type": "markdown",
   "metadata": {},
   "source": [
    "In general, for a recursive algorithm, we add up the number of operations for each function activation.\n",
    "\n",
    "For the Factorial Algorithm, there are n+1 activations:\n",
    "* since `factorial(n)` is first called;\n",
    "* which calls `factorial(n-1)`\n",
    "* which calls `factorial(n-2)`\n",
    "* ...\n",
    "* which calls `factorial(0)`\n",
    "\n",
    "Each is $O(1)$, so the algorithm is $O(n)$"
   ]
  },
  {
   "cell_type": "markdown",
   "metadata": {},
   "source": [
    "## 6. Binary Search\n",
    "\n",
    "Suppose we want to find a target value within a sequence of $n$ elements.\n",
    "* We can loop over elements until the value is found $\\rightarrow$ Sequential Search\n",
    "* But this is $O(n)$ …\n",
    "* For an sorted and indexable sequence, we can use Binary Search\n",
    "\n",
    "Consider the following binary search algorithm"
   ]
  },
  {
   "cell_type": "code",
   "execution_count": 12,
   "metadata": {},
   "outputs": [],
   "source": [
    "def binary_search(data, target, low, high):\n",
    "    \"\"\"\n",
    "    Return True if target is found in indicated portion of a \n",
    "    Python list. The search only considers the portion from \n",
    "    data[low] to data[high] inclusive\n",
    "    \"\"\"\n",
    "    global i\n",
    "    i += 1\n",
    "    if low > high:\n",
    "        return False\n",
    "    else:\n",
    "        mid = (low + high)//2\n",
    "        print('low : {}, mid: {}, high: {}'.format(low, mid, high))  # track progress\n",
    "        if target == data[mid]:\n",
    "            return True\n",
    "        elif target < data[mid]:\n",
    "            return binary_search(data, target, low, mid-1)\n",
    "        elif target > data[mid]:\n",
    "            return binary_search(data, target, mid+1, high)"
   ]
  },
  {
   "cell_type": "markdown",
   "metadata": {},
   "source": [
    "`binary_search` should take $O( \\log n )$ steps to run. Why?\n",
    "\n",
    "There are at most $\\lfloor\\log ⁡n\\rfloor+1$ recursive calls for a sequence with n elements, each $O(1) \\Rightarrow$ the algorithm is $O( \\log⁡ n)$\n",
    "* Why? First, notice that, after the first call, the number of remaining candidates is $\\le \\frac{n}{2}$.\n",
    "* After the $r^{th}$ step, there are $\\le \\frac{n}{2^r}$ candidates left.\n",
    "* In the worst case, the number of steps are smallest $r$ s.t. there is at most one candidate left: \n",
    "    * $1>\\frac{n}{2^r} \\Rightarrow r > \\log ⁡n \\Rightarrow r=\\lfloor\\log ⁡n\\rfloor+1$\n",
    "\n",
    "See the image for a visualization of the execution of this function\n",
    "\n",
    "![](images/binary_search.png)"
   ]
  },
  {
   "cell_type": "markdown",
   "metadata": {},
   "source": [
    "We test the code empirically:"
   ]
  },
  {
   "cell_type": "code",
   "execution_count": 13,
   "metadata": {},
   "outputs": [
    {
     "name": "stdout",
     "output_type": "stream",
     "text": [
      "low : 0, mid: 7, high: 15\n",
      "low : 0, mid: 3, high: 6\n",
      "low : 0, mid: 1, high: 2\n",
      "low : 0, mid: 0, high: 0\n",
      "took 5 steps\n"
     ]
    }
   ],
   "source": [
    "i=0\n",
    "data = [2,4,5,7,8,9,12,14,17,19,22,25,27,28,33,37]\n",
    "\n",
    "binary_search(data,-1,0,15)\n",
    "print('took {} steps'.format(i))"
   ]
  },
  {
   "cell_type": "code",
   "execution_count": 14,
   "metadata": {},
   "outputs": [
    {
     "data": {
      "text/plain": [
       "5"
      ]
     },
     "execution_count": 14,
     "metadata": {},
     "output_type": "execute_result"
    }
   ],
   "source": [
    "import math\n",
    "math.floor(math.log2(len(data)))+1"
   ]
  },
  {
   "cell_type": "markdown",
   "metadata": {},
   "source": [
    "Indeed, this takes $\\lfloor \\log ⁡16 \\rfloor+1 = 4+1 = 5$"
   ]
  },
  {
   "cell_type": "markdown",
   "metadata": {},
   "source": [
    "## 7. Disk Utility\n",
    "\n",
    "Consider the following program to calculate disk usage (like `du` in Unix)"
   ]
  },
  {
   "cell_type": "code",
   "execution_count": 15,
   "metadata": {},
   "outputs": [],
   "source": [
    "import os\n",
    "\n",
    "def disk_usage(path):\n",
    "    \"\"\"Return the number of bytes used by a file/folder and any descendents.\"\"\"\n",
    "    total = os.path.getsize(path)                    # account for direct usage\n",
    "    if os.path.isdir(path):                          # if this is a directory,\n",
    "        for filename in os.listdir(path):            # then for each child:\n",
    "            childpath = os.path.join(path, filename) # compose full path to child\n",
    "            total += disk_usage(childpath)           # add child’s usage to total\n",
    "    print ( '{0:<7}'.format(total), path)            # descriptive output (optional)\n",
    "    return total                                     # return the grand total"
   ]
  },
  {
   "cell_type": "code",
   "execution_count": 16,
   "metadata": {},
   "outputs": [
    {
     "name": "stdout",
     "output_type": "stream",
     "text": [
      "0       courses/cs016/homeworks/hw1.txt\n",
      "0       courses/cs016/homeworks/.ipynb_checkpoints/hw1-checkpoint.txt\n",
      "3       courses/cs016/homeworks/.ipynb_checkpoints\n",
      "0       courses/cs016/homeworks/hw3.txt\n",
      "0       courses/cs016/homeworks/hw2.txt\n",
      "9       courses/cs016/homeworks\n",
      "0       courses/cs016/programs/pr3.txt\n",
      "0       courses/cs016/programs/pr2.txt\n",
      "0       courses/cs016/programs/pr1.txt\n",
      "0       courses/cs016/programs/.ipynb_checkpoints/pr1-checkpoint.txt\n",
      "3       courses/cs016/programs/.ipynb_checkpoints\n",
      "9       courses/cs016/programs\n",
      "2       courses/cs016/.ipynb_checkpoints\n",
      "2       courses/cs016/grades\n",
      "28      courses/cs016\n",
      "2       courses/.ipynb_checkpoints\n",
      "2       courses/cs252/grades\n",
      "0       courses/cs252/projects/papers/sellhigh.txt\n",
      "0       courses/cs252/projects/papers/buylow.txt\n",
      "0       courses/cs252/projects/papers/.ipynb_checkpoints/buylow-checkpoint.txt\n",
      "3       courses/cs252/projects/papers/.ipynb_checkpoints\n",
      "8       courses/cs252/projects/papers\n",
      "2       courses/cs252/projects/demos/.ipynb_checkpoints\n",
      "0       courses/cs252/projects/demos/market.txt\n",
      "6       courses/cs252/projects/demos\n",
      "2       courses/cs252/projects/.ipynb_checkpoints\n",
      "21      courses/cs252/projects\n",
      "2       courses/cs252/.ipynb_checkpoints\n",
      "30      courses/cs252\n",
      "65      courses\n"
     ]
    },
    {
     "data": {
      "text/plain": [
       "65"
      ]
     },
     "execution_count": 16,
     "metadata": {},
     "output_type": "execute_result"
    }
   ],
   "source": [
    "disk_usage('courses') # note that this includes hidden directories/files"
   ]
  },
  {
   "cell_type": "markdown",
   "metadata": {},
   "source": [
    "The `disk_usage` function is $O(n)$, for $n=$ number of files/folders\n",
    "To prove this, it is e.t.s that \n",
    "\n",
    "* there are $n$ recursive calls of `disk_usage`\n",
    "* the for loop is called $n-1$ times **across** all recursive calls of `disk_usage`\n",
    "\n",
    "For clarity, consider the below hypothetical filesystem:\n",
    "\n",
    "![](images/du.png)"
   ]
  },
  {
   "cell_type": "markdown",
   "metadata": {},
   "source": [
    "* To prove that there are $n$ recursive calls of `disk_usage`, we need to define the _nesting level_ of each level. \n",
    "* (e.g. `/usr/rt/courses/` is level 0, `cs252/` is level 1, ...).\n",
    "* We prove this by induction over the _nesting level_ $k$:\n",
    "    * For $k=0$, the only folder at _nesting level_ $0$ is the initial path argument to `disk_usage` (`user/rt/courses` in the example). `disk_usage` is called once, as the main function call, the claim is satisfied.\n",
    "    * If `disk_usage` is called for each file/folder at _nesting level_ $k-1$, we see that `disk_usage` will be called for each file/folder at _nesting level_ $k$ since each file/folder appears in the for loop.\n",
    "\n",
    "Hence there are $n$ recursive calls of `disk_usage`, as needed.\n"
   ]
  },
  {
   "cell_type": "markdown",
   "metadata": {},
   "source": [
    "We modify `disk_usage` to record how many files we loop over **across** recursive calls of `disk_usage`. \n",
    "\n",
    "We use this to verify that we loop over $n-1$ files in total"
   ]
  },
  {
   "cell_type": "code",
   "execution_count": 17,
   "metadata": {},
   "outputs": [],
   "source": [
    "import os\n",
    "\n",
    "def disk_usage(path):\n",
    "    \"\"\"Return the number of bytes used by a file/folder and any descendents.\"\"\"\n",
    "    global i\n",
    "    total = os.path.getsize(path)                                                # account for direct usage\n",
    "    if os.path.isdir(path):                                                      # if this is a directory\n",
    "        visible_files = [f for f in os.listdir(path) if not f.startswith('.')]   # only include visible files\n",
    "        i += len(visible_files)                                                  # record number of folders looped over\n",
    "        print('looped over folders {}'.format(visible_files))\n",
    "        for filename in visible_files:                                           # then for each child:\n",
    "            childpath = os.path.join(path, filename)                             # compose full path to child\n",
    "            total += disk_usage(childpath)                                       # add child’s usage to total\n",
    "    #print ( '{0:<7}'.format(total), path)                                       # descriptive output (optional)\n",
    "    return total                                                                 # return the grand total"
   ]
  },
  {
   "cell_type": "code",
   "execution_count": 18,
   "metadata": {},
   "outputs": [
    {
     "name": "stdout",
     "output_type": "stream",
     "text": [
      "looped over folders ['cs016', 'cs252']\n",
      "looped over folders ['homeworks', 'programs', 'grades']\n",
      "looped over folders ['hw1.txt', 'hw3.txt', 'hw2.txt']\n",
      "looped over folders ['pr3.txt', 'pr2.txt', 'pr1.txt']\n",
      "looped over folders []\n",
      "looped over folders ['grades', 'projects']\n",
      "looped over folders []\n",
      "looped over folders ['papers', 'demos']\n",
      "looped over folders ['sellhigh.txt', 'buylow.txt']\n",
      "looped over folders ['market.txt']\n",
      "looped over 18 folders\n"
     ]
    }
   ],
   "source": [
    "i=0\n",
    "disk_usage('courses/')\n",
    "print('looped over {} folders'.format(i))"
   ]
  },
  {
   "cell_type": "markdown",
   "metadata": {},
   "source": [
    "Indeed, $19-1=18$"
   ]
  },
  {
   "cell_type": "markdown",
   "metadata": {},
   "source": [
    "## 8. Inefficient Use of Recursion\n",
    "\n",
    "Now for an example of an inefficient use of Recursion.\n",
    "Notice how this is $O(2^n)$"
   ]
  },
  {
   "cell_type": "code",
   "execution_count": 19,
   "metadata": {},
   "outputs": [],
   "source": [
    "def unique(S, start, stop):\n",
    "    \"\"\"Return True if there are no duplicate elements in slice S[start:stop].\"\"\"\n",
    "    global num_steps\n",
    "    num_steps += 1\n",
    "    if stop - start <= 1: \n",
    "        return True # at most one item\n",
    "    elif not unique(S, start, stop-1): \n",
    "        return False # first part has duplicate\n",
    "    elif not unique(S, start+1, stop): \n",
    "        return False # second part has duplicate\n",
    "    else: \n",
    "        return S[start] != S[stop-1] # do first and last differ?"
   ]
  },
  {
   "cell_type": "code",
   "execution_count": 20,
   "metadata": {},
   "outputs": [
    {
     "name": "stdout",
     "output_type": "stream",
     "text": [
      "took 127 steps\n"
     ]
    }
   ],
   "source": [
    "num_steps = 0\n",
    "unique('ABCDEFG',0,7)\n",
    "print('took {} steps'.format(num_steps))"
   ]
  },
  {
   "cell_type": "code",
   "execution_count": 21,
   "metadata": {},
   "outputs": [
    {
     "data": {
      "text/plain": [
       "127"
      ]
     },
     "execution_count": 21,
     "metadata": {},
     "output_type": "execute_result"
    }
   ],
   "source": [
    "2**len('ABCDEFG')-1"
   ]
  },
  {
   "cell_type": "markdown",
   "metadata": {},
   "source": [
    "Now lets see why this is so slow"
   ]
  },
  {
   "cell_type": "code",
   "execution_count": 22,
   "metadata": {},
   "outputs": [
    {
     "name": "stdout",
     "output_type": "stream",
     "text": [
      "analyzing sequence ABC\n",
      "analyzing sequence AB\n",
      "analyzing sequence A\n",
      "one item left, so True\n",
      "analyzing sequence B\n",
      "one item left, so True\n",
      "sequences A and B not unique. Checking if A and B are\n",
      "analyzing sequence BC\n",
      "analyzing sequence B\n",
      "one item left, so True\n",
      "analyzing sequence C\n",
      "one item left, so True\n",
      "sequences B and C not unique. Checking if B and C are\n",
      "sequences AB and BC not unique. Checking if A and C are\n",
      "took 7 steps\n"
     ]
    }
   ],
   "source": [
    "def unique(S, start, stop):\n",
    "    \"\"\"Return True if there are no duplicate elements in slice S[start:stop].\"\"\"\n",
    "    global num_steps\n",
    "    num_steps += 1\n",
    "    print('analyzing sequence {}'.format(S[start:stop]))\n",
    "    if stop - start <= 1: \n",
    "        print('one item left, so True')\n",
    "        return True # at most one item\n",
    "    elif not unique(S, start, stop-1): \n",
    "        print('sequence {} not unique'.format(S[start:stop-1]))\n",
    "        return False # first part has duplicate\n",
    "    elif not unique(S, start+1, stop): \n",
    "        print('sequence {} not unique'.format(S[start+1:stop]))\n",
    "        return False # second part has duplicate\n",
    "    else: \n",
    "        print('sequences {} and {} not unique. Checking if {} and {} are'.format(S[start:stop-1], S[start+1:stop], S[start], S[stop-1]))\n",
    "        return S[start] != S[stop-1] # do first and last differ?\n",
    "    \n",
    "num_steps = 0\n",
    "unique('ABC',0,3)\n",
    "print('took {} steps'.format(num_steps))"
   ]
  },
  {
   "cell_type": "markdown",
   "metadata": {},
   "source": [
    "Notice that\n",
    "* during `unique('ABC')`, we called **both** `unique('AB')` and `unique('BC')`.\n",
    "* during `unique('AB')` called **both** `unique('A')` and `unique('B')`\n",
    "* during `unique('BC')` called **both** `unique('B')` and `unique('C')`\n",
    "\n",
    "Hence $1 + 2 + 2*2 = 7$ steps"
   ]
  },
  {
   "cell_type": "markdown",
   "metadata": {},
   "source": [
    "## 9. Different Kinds of Recursion\n",
    "\n",
    "![](images/diff_recursions_summary.png)"
   ]
  },
  {
   "cell_type": "markdown",
   "metadata": {},
   "source": [
    "## Practice Problems\n",
    "\n",
    "R 4-7. Reimplementing `int` using recursion"
   ]
  },
  {
   "cell_type": "code",
   "execution_count": 23,
   "metadata": {},
   "outputs": [],
   "source": [
    "def str_to_int(string):\n",
    "    \"\"\"convert string to int e.g. '13531' -> 13531\"\"\"\n",
    "    if len(string) == 1:\n",
    "        return int(string)\n",
    "    else:\n",
    "        return int(string[0])*10**(len(string)-1) + str_to_int(string[1:])"
   ]
  },
  {
   "cell_type": "code",
   "execution_count": 24,
   "metadata": {},
   "outputs": [
    {
     "data": {
      "text/plain": [
       "13531"
      ]
     },
     "execution_count": 24,
     "metadata": {},
     "output_type": "execute_result"
    }
   ],
   "source": [
    "str_to_int('13531')"
   ]
  },
  {
   "cell_type": "markdown",
   "metadata": {},
   "source": [
    "R 4.8 Isabel has an interesting way of summing up the values in a sequence A of\n",
    "n integers, where n is a power of two.\n",
    "\n",
    "She creates a new sequence B of half the size of A and sets $B[i] = A[2i] + A[2i+1]$, for $i = 0,1, ... , (n/2)-1$. \n",
    "\n",
    "If B has size 1, then she outputs $B[0]$. Otherwise, she replaces A with B, and repeats the process. \n",
    "\n",
    "What is the running time of her algorithm?"
   ]
  },
  {
   "cell_type": "code",
   "execution_count": 25,
   "metadata": {},
   "outputs": [],
   "source": [
    "def isabel_sum(A):\n",
    "    global idx\n",
    "    B = [0]*(len(A)//2)\n",
    "    for i in range(len(A)//2):\n",
    "        idx += 1\n",
    "        B[i] = A[2*i] + A[(2*i)+1]\n",
    "    print(B)\n",
    "    if len(B)==1:\n",
    "        return B[0]\n",
    "    else:\n",
    "        return isabel_sum(B)"
   ]
  },
  {
   "cell_type": "code",
   "execution_count": 26,
   "metadata": {},
   "outputs": [
    {
     "name": "stdout",
     "output_type": "stream",
     "text": [
      "[3, 9, 10, 8, 3, 9, 10, 8]\n",
      "[12, 18, 12, 18]\n",
      "[30, 30]\n",
      "[60]\n"
     ]
    },
    {
     "data": {
      "text/plain": [
       "60"
      ]
     },
     "execution_count": 26,
     "metadata": {},
     "output_type": "execute_result"
    }
   ],
   "source": [
    "idx = 0\n",
    "A = [1,2,4,5,7,3,0,8,1,2,4,5,7,3,0,8]\n",
    "\n",
    "isabel_sum(A)"
   ]
  },
  {
   "cell_type": "markdown",
   "metadata": {},
   "source": [
    "We see there are $\\log n$ recursive calls. However, altogether, these perform $n$ operations.\n",
    "Hence this algorithm is $O(n)$\n",
    "\n",
    "We can prove this more rigorously by noticing that the number of computations in total is:\n",
    "\n",
    "$\\sum_{k=1}^{\\log n} \\frac{n}{2^k} = \\frac{n}{2} \\sum_{k=0}^{(\\log n) -1} \\frac{1}{2^k} = \\frac{n}{2}\\left(\\frac{(1-\\frac{1}{n})}{(1-\\frac{1}{2})}\\right)=n-1$\n",
    "\n",
    "Where we used the fact that this sum is a geometric series."
   ]
  },
  {
   "cell_type": "code",
   "execution_count": 27,
   "metadata": {},
   "outputs": [
    {
     "name": "stdout",
     "output_type": "stream",
     "text": [
      "took 15 steps (n=16)\n"
     ]
    }
   ],
   "source": [
    "print('took {} steps (n={})'.format(idx, len(A)))"
   ]
  }
 ],
 "metadata": {
  "kernelspec": {
   "display_name": "Python 3",
   "language": "python",
   "name": "python3"
  },
  "language_info": {
   "codemirror_mode": {
    "name": "ipython",
    "version": 3
   },
   "file_extension": ".py",
   "mimetype": "text/x-python",
   "name": "python",
   "nbconvert_exporter": "python",
   "pygments_lexer": "ipython3",
   "version": "3.7.4"
  }
 },
 "nbformat": 4,
 "nbformat_minor": 4
}
