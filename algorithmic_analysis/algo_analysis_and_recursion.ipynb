{
 "cells": [
  {
   "cell_type": "markdown",
   "metadata": {},
   "source": [
    "# Algorithm Analysis"
   ]
  },
  {
   "cell_type": "markdown",
   "metadata": {},
   "source": [
    "A simple runtime analysis example. Notice that in each version of the algorithm, we count the steps (to empirically verify the different in runtime)"
   ]
  },
  {
   "cell_type": "code",
   "execution_count": 2,
   "metadata": {},
   "outputs": [],
   "source": [
    "def disjoint1(A, B, C):\n",
    "    \"\"\"Return True if there is no element common to all three lists.\"\"\"\n",
    "    i=0\n",
    "    for a in A:\n",
    "        for b in B:\n",
    "            for c in C:\n",
    "                i += 1\n",
    "                if a == b == c:\n",
    "                    print('took {} steps'.format(i))\n",
    "                    return False # we found a common value\n",
    "    print('took {} steps'.format(i))\n",
    "    return True"
   ]
  },
  {
   "cell_type": "code",
   "execution_count": 3,
   "metadata": {},
   "outputs": [],
   "source": [
    "def disjoint2(A, B, C):\n",
    "    \"\"\"Return True if there is no element common to all three lists.\"\"\"\n",
    "    i=0\n",
    "    for a in A:\n",
    "        for b in B:\n",
    "            i += 1\n",
    "            if a == b: # only check C if we found match from A and B\n",
    "                for c in C:\n",
    "                    i += 1\n",
    "                    if a == c: # (and thus a == b == c)\n",
    "                        print('took {} steps'.format(i))\n",
    "                        return False # we found a common value\n",
    "    print('took {} steps'.format(i))\n",
    "    return True # if we reach this, sets are disjoint"
   ]
  },
  {
   "cell_type": "markdown",
   "metadata": {},
   "source": [
    "`disjoint1` should take $O(n^3)$ steps to run, why?\n",
    "\n",
    "* the outermost loop is $O(n)$\n",
    "* for each of the $O(n)$ iterations, another loop is run, which is $O(n)$ (so $O(n^2)$ total)\n",
    "* for each of $O(n^2)$ iterations, a third loop is run, for a total of $O(n^3)$ iterations"
   ]
  },
  {
   "cell_type": "code",
   "execution_count": 4,
   "metadata": {},
   "outputs": [
    {
     "name": "stdout",
     "output_type": "stream",
     "text": [
      "took 125 steps\n"
     ]
    },
    {
     "data": {
      "text/plain": [
       "True"
      ]
     },
     "execution_count": 4,
     "metadata": {},
     "output_type": "execute_result"
    }
   ],
   "source": [
    "disjoint1({1,2,3,4,5},{6,7,8,9,10},{11,12,13,14,15})\n",
    "#dis.dis(disjoint1)"
   ]
  },
  {
   "cell_type": "markdown",
   "metadata": {},
   "source": [
    "`disjoint2` should take $O(n^2)$ steps to run, why?\n",
    "\n",
    "* the outermost loop is $O(n)$\n",
    "* for each of the $O(n)$ iterations, another loop is run, which is $O(n)$ (so $O(n^2)$ total)\n",
    "* Not always will the innermost loop run. It will run at most $n$ times (if $A\\subseteq B$ or $B \\subseteq A$)\n",
    "* For each of the (at most) $O(n)$ iterations when $a==b$, a third loop is run, for a total of $O(n^2)$ iterations\n",
    "\n",
    "Hence, $O(n^2)+O(n^2)$ is $O(n^2)$"
   ]
  },
  {
   "cell_type": "markdown",
   "metadata": {},
   "source": [
    "All 3 sets disjoint scenerio. Notice the inner loop never executes."
   ]
  },
  {
   "cell_type": "code",
   "execution_count": 5,
   "metadata": {},
   "outputs": [
    {
     "name": "stdout",
     "output_type": "stream",
     "text": [
      "took 25 steps\n"
     ]
    },
    {
     "data": {
      "text/plain": [
       "True"
      ]
     },
     "execution_count": 5,
     "metadata": {},
     "output_type": "execute_result"
    }
   ],
   "source": [
    "disjoint2({1,2,3,4,5},{6,7,8,9,10},{11,12,13,14,15})"
   ]
  },
  {
   "cell_type": "markdown",
   "metadata": {},
   "source": [
    "Worst case scenerio. Notice the inner loop executes all $n$ times"
   ]
  },
  {
   "cell_type": "code",
   "execution_count": 6,
   "metadata": {},
   "outputs": [
    {
     "name": "stdout",
     "output_type": "stream",
     "text": [
      "took 50 steps\n"
     ]
    },
    {
     "data": {
      "text/plain": [
       "True"
      ]
     },
     "execution_count": 6,
     "metadata": {},
     "output_type": "execute_result"
    }
   ],
   "source": [
    "disjoint2({1,2,3,4,5},{1,2,3,4,5},{11,12,13,14,15})"
   ]
  },
  {
   "cell_type": "markdown",
   "metadata": {},
   "source": [
    "Best case scenerio. A common value is immediately found"
   ]
  },
  {
   "cell_type": "code",
   "execution_count": 7,
   "metadata": {},
   "outputs": [
    {
     "name": "stdout",
     "output_type": "stream",
     "text": [
      "took 2 steps\n"
     ]
    },
    {
     "data": {
      "text/plain": [
       "False"
      ]
     },
     "execution_count": 7,
     "metadata": {},
     "output_type": "execute_result"
    }
   ],
   "source": [
    "disjoint2({1,2,3,4,5},{1,2,3,4,5},{1,2,3,4,5})"
   ]
  },
  {
   "cell_type": "markdown",
   "metadata": {},
   "source": [
    "We can see the low level code using the `dis` module"
   ]
  },
  {
   "cell_type": "code",
   "execution_count": 8,
   "metadata": {},
   "outputs": [],
   "source": [
    "#import dis\n",
    "#dis.dis(disjoint1)"
   ]
  },
  {
   "cell_type": "markdown",
   "metadata": {},
   "source": [
    "# Recursion"
   ]
  },
  {
   "cell_type": "markdown",
   "metadata": {},
   "source": [
    "## Binary Search\n",
    "\n",
    "Consider the following binary search algorithm"
   ]
  },
  {
   "cell_type": "code",
   "execution_count": 35,
   "metadata": {},
   "outputs": [],
   "source": [
    "def binary_search(data, target, low, high):\n",
    "    \"\"\"\n",
    "    Return True if target is found in indicated portion of a \n",
    "    Python list. The search only considers the portion from \n",
    "    data[low] to data[high] inclusive\n",
    "    \"\"\"\n",
    "    if low > high:\n",
    "        return False\n",
    "    else:\n",
    "        mid = (low + high)//2\n",
    "        print('low : {}, mid: {}, high: {}'.format(low, mid, high))  # track progress\n",
    "        if target == data[mid]:\n",
    "            return True\n",
    "        elif target < data[mid]:\n",
    "            return binary_search(data, target, low, mid-1)\n",
    "        elif target > data[mid]:\n",
    "            return binary_search(data, target, mid+1, high)"
   ]
  },
  {
   "cell_type": "code",
   "execution_count": 36,
   "metadata": {},
   "outputs": [
    {
     "name": "stdout",
     "output_type": "stream",
     "text": [
      "low : 0, mid: 7, high: 15\n",
      "low : 8, mid: 11, high: 15\n",
      "low : 8, mid: 9, high: 10\n",
      "low : 10, mid: 10, high: 10\n"
     ]
    },
    {
     "data": {
      "text/plain": [
       "True"
      ]
     },
     "execution_count": 36,
     "metadata": {},
     "output_type": "execute_result"
    }
   ],
   "source": [
    "data = [2,4,5,7,8,9,12,14,17,19,22,25,27,28,33,37]\n",
    "binary_search(data,22,0,15)"
   ]
  },
  {
   "cell_type": "markdown",
   "metadata": {},
   "source": [
    "See the image for a visualization of the execution of this function\n",
    "\n",
    "![](images/binary_search.png)"
   ]
  },
  {
   "cell_type": "markdown",
   "metadata": {},
   "source": [
    "## Disk Utility\n",
    "\n",
    "Consider the following program to calculate disk usage (like `du` in Unix)"
   ]
  },
  {
   "cell_type": "code",
   "execution_count": 63,
   "metadata": {},
   "outputs": [],
   "source": [
    "import os\n",
    "\n",
    "def disk_usage(path):\n",
    "    \"\"\"Return the number of bytes used by a file/folder and any descendents.\"\"\"\n",
    "    total = os.path.getsize(path)                    # account for direct usage\n",
    "    if os.path.isdir(path):                          # if this is a directory,\n",
    "        for filename in os.listdir(path):            # then for each child:\n",
    "            childpath = os.path.join(path, filename) # compose full path to child\n",
    "            total += disk_usage(childpath)           # add child’s usage to total\n",
    "    print ( '{0:<7}'.format(total), path)            # descriptive output (optional)\n",
    "    return total                                     # return the grand total"
   ]
  },
  {
   "cell_type": "code",
   "execution_count": 64,
   "metadata": {},
   "outputs": [
    {
     "name": "stdout",
     "output_type": "stream",
     "text": [
      "55326   /network/home/sciclunm/research/coding_tests_repo/algorithmic_analysis/images/du.png\n",
      "76360   /network/home/sciclunm/research/coding_tests_repo/algorithmic_analysis/images/binary_search.png\n",
      "131690  /network/home/sciclunm/research/coding_tests_repo/algorithmic_analysis/images\n",
      "13894   /network/home/sciclunm/research/coding_tests_repo/algorithmic_analysis/algo_analysis_and_recursion.ipynb\n",
      "72      /network/home/sciclunm/research/coding_tests_repo/algorithmic_analysis/.ipynb_checkpoints/algo_analysis_and_recursion-checkpoint.ipynb\n",
      "75      /network/home/sciclunm/research/coding_tests_repo/algorithmic_analysis/.ipynb_checkpoints\n",
      "145664  /network/home/sciclunm/research/coding_tests_repo/algorithmic_analysis/\n"
     ]
    },
    {
     "data": {
      "text/plain": [
       "145664"
      ]
     },
     "execution_count": 64,
     "metadata": {},
     "output_type": "execute_result"
    }
   ],
   "source": [
    "disk_usage('/network/home/sciclunm/research/coding_tests_repo/algorithmic_analysis/')"
   ]
  },
  {
   "cell_type": "markdown",
   "metadata": {},
   "source": [
    "## Run Time Analysis\n",
    "\n",
    "We modify the `binary_search` function to count the steps"
   ]
  },
  {
   "cell_type": "code",
   "execution_count": 72,
   "metadata": {},
   "outputs": [],
   "source": [
    "def binary_search(data, target, low, high):\n",
    "    \"\"\"\n",
    "    Return True if target is found in indicated portion of a \n",
    "    Python list. The search only considers the portion from \n",
    "    data[low] to data[high] inclusive\n",
    "    \"\"\"\n",
    "    global i\n",
    "    i += 1\n",
    "    if low > high:\n",
    "        return False\n",
    "    else:\n",
    "        mid = (low + high)//2\n",
    "        print('low : {}, mid: {}, high: {}'.format(low, mid, high))  # track progress\n",
    "        if target == data[mid]:\n",
    "            return True\n",
    "        elif target < data[mid]:\n",
    "            return binary_search(data, target, low, mid-1)\n",
    "        elif target > data[mid]:\n",
    "            return binary_search(data, target, mid+1, high)"
   ]
  },
  {
   "cell_type": "markdown",
   "metadata": {},
   "source": [
    "`binary_search` should take $O(\\log n)$ steps to run. Why?\n",
    "* There are $\\log n$ steps. This is because the $r^{th}$ step leaves you with $\\frac{n}{2^r}$. So if we want to find smallest $r$ s.t. $1 > \\frac{n}{2^r} \\Rightarrow r=\\lfloor \\log n \\rfloor + 1$\n",
    "* each step is $O(1)$"
   ]
  },
  {
   "cell_type": "code",
   "execution_count": 74,
   "metadata": {},
   "outputs": [
    {
     "name": "stdout",
     "output_type": "stream",
     "text": [
      "low : 0, mid: 7, high: 15\n",
      "low : 0, mid: 3, high: 6\n",
      "low : 0, mid: 1, high: 2\n",
      "low : 0, mid: 0, high: 0\n",
      "took 5 steps\n"
     ]
    }
   ],
   "source": [
    "i = 0\n",
    "binary_search(data,-1,0,15)\n",
    "print('took {} steps'.format(i))"
   ]
  },
  {
   "cell_type": "markdown",
   "metadata": {},
   "source": [
    "test empirically"
   ]
  },
  {
   "cell_type": "code",
   "execution_count": 85,
   "metadata": {},
   "outputs": [
    {
     "data": {
      "text/plain": [
       "5"
      ]
     },
     "execution_count": 85,
     "metadata": {},
     "output_type": "execute_result"
    }
   ],
   "source": [
    "import math\n",
    "math.floor(math.log2(len(data)))+1"
   ]
  },
  {
   "cell_type": "markdown",
   "metadata": {},
   "source": [
    "The `disk_usage` function is $O(n)$, for $n=$ number of files/folders\n",
    "To prove this, it is e.t.s that \n",
    "\n",
    "* there are $n$ recursive calls of `disk_usage`\n",
    "* the for loop is called $n-1$ times **across** all recursive calls of `disk_usage`\n",
    "\n",
    "For clarity, consider the below hypothetical filesystem:\n",
    "\n",
    "![](images/du.png)"
   ]
  },
  {
   "cell_type": "markdown",
   "metadata": {},
   "source": [
    "To prove that there are $n$ recursive calls of `disk_usage`, we need to define the _nesting level_ of each level. (e.g. `/usr/rt/courses/` is level 0, `cs252/` is level 1, ...).\n",
    "\n",
    "We prove this by induction over the _nesting level_ $k$:\n",
    "* For $k=0$, the only folder at _nesting level_ $0$ is the initial path argument to `disk_usage` (`user/rt/courses` in the example). `disk_usage` is called once, as the main function call, the claim is satisfied.\n",
    "* If `disk_usage` is called for each file/folder at _nesting level_ $k-1$, we see that `disk_usage` will be called for each file/folder at _nesting level_ $k$ since each file/folder appears in the for loop.\n",
    "\n",
    "Hence there are $n$ recursive calls of `disk_usage`, as needed.\n"
   ]
  },
  {
   "cell_type": "markdown",
   "metadata": {},
   "source": [
    "We modify `disk_usage` to record how many files we loop over **across** recursive calls of `disk_usage`. \n",
    "\n",
    "We use this to verify that we loop over $n-1$ files in total"
   ]
  },
  {
   "cell_type": "code",
   "execution_count": 119,
   "metadata": {},
   "outputs": [],
   "source": [
    "import os\n",
    "\n",
    "def disk_usage(path):\n",
    "    \"\"\"Return the number of bytes used by a file/folder and any descendents.\"\"\"\n",
    "    global i\n",
    "    total = os.path.getsize(path)                                                # account for direct usage\n",
    "    if os.path.isdir(path):                                                      # if this is a directory\n",
    "        visible_files = [f for f in os.listdir(path) if not f.startswith('.')]   # only include visible files\n",
    "        i += len(visible_files)                                                  # record number of folders looped over\n",
    "        print('looped over folders {}'.format(visible_files))\n",
    "        for filename in visible_files:                                           # then for each child:\n",
    "            childpath = os.path.join(path, filename)                             # compose full path to child\n",
    "            total += disk_usage(childpath)                                       # add child’s usage to total\n",
    "    #print ( '{0:<7}'.format(total), path)                                       # descriptive output (optional)\n",
    "    return total                                                                 # return the grand total"
   ]
  },
  {
   "cell_type": "code",
   "execution_count": 122,
   "metadata": {},
   "outputs": [
    {
     "name": "stdout",
     "output_type": "stream",
     "text": [
      "looped over folders ['cs016', 'cs252']\n",
      "looped over folders ['homeworks', 'programs', 'grades']\n",
      "looped over folders ['hw1.txt', 'hw3.txt', 'hw2.txt']\n",
      "looped over folders ['pr3.txt', 'pr2.txt', 'pr1.txt']\n",
      "looped over folders []\n",
      "looped over folders ['grades', 'projects']\n",
      "looped over folders []\n",
      "looped over folders ['papers', 'demos']\n",
      "looped over folders ['sellhigh.txt', 'buylow.txt']\n",
      "looped over folders ['market.txt']\n",
      "looped over 18 folders\n"
     ]
    }
   ],
   "source": [
    "i=0\n",
    "disk_usage('courses/')\n",
    "print('looped over {} folders'.format(i))"
   ]
  },
  {
   "cell_type": "markdown",
   "metadata": {},
   "source": [
    "Indeed, $19-1=18$"
   ]
  },
  {
   "cell_type": "code",
   "execution_count": null,
   "metadata": {},
   "outputs": [],
   "source": []
  }
 ],
 "metadata": {
  "kernelspec": {
   "display_name": "Python 3",
   "language": "python",
   "name": "python3"
  },
  "language_info": {
   "codemirror_mode": {
    "name": "ipython",
    "version": 3
   },
   "file_extension": ".py",
   "mimetype": "text/x-python",
   "name": "python",
   "nbconvert_exporter": "python",
   "pygments_lexer": "ipython3",
   "version": "3.7.4"
  }
 },
 "nbformat": 4,
 "nbformat_minor": 4
}
