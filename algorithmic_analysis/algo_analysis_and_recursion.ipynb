{
 "cells": [
  {
   "cell_type": "markdown",
   "metadata": {},
   "source": [
    "# Algorithm Analysis"
   ]
  },
  {
   "cell_type": "markdown",
   "metadata": {},
   "source": [
    "A simple runtime analysis example. Notice that in each version of the algorithm, we count the steps (to empirically verify the different in runtime)"
   ]
  },
  {
   "cell_type": "code",
   "execution_count": 2,
   "metadata": {},
   "outputs": [],
   "source": [
    "def disjoint1(A, B, C):\n",
    "    \"\"\"Return True if there is no element common to all three lists.\"\"\"\n",
    "    i=0\n",
    "    for a in A:\n",
    "        for b in B:\n",
    "            for c in C:\n",
    "                i += 1\n",
    "                if a == b == c:\n",
    "                    print('took {} steps'.format(i))\n",
    "                    return False # we found a common value\n",
    "    print('took {} steps'.format(i))\n",
    "    return True"
   ]
  },
  {
   "cell_type": "code",
   "execution_count": 3,
   "metadata": {},
   "outputs": [],
   "source": [
    "def disjoint2(A, B, C):\n",
    "    \"\"\"Return True if there is no element common to all three lists.\"\"\"\n",
    "    i=0\n",
    "    for a in A:\n",
    "        for b in B:\n",
    "            i += 1\n",
    "            if a == b: # only check C if we found match from A and B\n",
    "                for c in C:\n",
    "                    i += 1\n",
    "                    if a == c: # (and thus a == b == c)\n",
    "                        print('took {} steps'.format(i))\n",
    "                        return False # we found a common value\n",
    "    print('took {} steps'.format(i))\n",
    "    return True # if we reach this, sets are disjoint"
   ]
  },
  {
   "cell_type": "markdown",
   "metadata": {},
   "source": [
    "`disjoint1` should take $O(n^3)$ steps to run, why?\n",
    "\n",
    "* the outermost loop is $O(n)$\n",
    "* for each of the $O(n)$ iterations, another loop is run, which is $O(n)$ (so $O(n^2)$ total)\n",
    "* for each of $O(n^2)$ iterations, a third loop is run, for a total of $O(n^3)$ iterations"
   ]
  },
  {
   "cell_type": "code",
   "execution_count": 4,
   "metadata": {},
   "outputs": [
    {
     "name": "stdout",
     "output_type": "stream",
     "text": [
      "took 125 steps\n"
     ]
    },
    {
     "data": {
      "text/plain": [
       "True"
      ]
     },
     "execution_count": 4,
     "metadata": {},
     "output_type": "execute_result"
    }
   ],
   "source": [
    "disjoint1({1,2,3,4,5},{6,7,8,9,10},{11,12,13,14,15})\n",
    "#dis.dis(disjoint1)"
   ]
  },
  {
   "cell_type": "markdown",
   "metadata": {},
   "source": [
    "`disjoint2` should take $O(n^2)$ steps to run, why?\n",
    "\n",
    "* the outermost loop is $O(n)$\n",
    "* for each of the $O(n)$ iterations, another loop is run, which is $O(n)$ (so $O(n^2)$ total)\n",
    "* Not always will the innermost loop run. It will run at most $n$ times (if $A\\subseteq B$ or $B \\subseteq A$)\n",
    "* For each of the (at most) $O(n)$ iterations when $a==b$, a third loop is run, for a total of $O(n^2)$ iterations\n",
    "\n",
    "Hence, $O(n^2)+O(n^2)$ is $O(n^2)$"
   ]
  },
  {
   "cell_type": "markdown",
   "metadata": {},
   "source": [
    "All 3 sets disjoint scenerio. Notice the inner loop never executes."
   ]
  },
  {
   "cell_type": "code",
   "execution_count": 5,
   "metadata": {},
   "outputs": [
    {
     "name": "stdout",
     "output_type": "stream",
     "text": [
      "took 25 steps\n"
     ]
    },
    {
     "data": {
      "text/plain": [
       "True"
      ]
     },
     "execution_count": 5,
     "metadata": {},
     "output_type": "execute_result"
    }
   ],
   "source": [
    "disjoint2({1,2,3,4,5},{6,7,8,9,10},{11,12,13,14,15})"
   ]
  },
  {
   "cell_type": "markdown",
   "metadata": {},
   "source": [
    "Worst case scenerio. Notice the inner loop executes all $n$ times"
   ]
  },
  {
   "cell_type": "code",
   "execution_count": 6,
   "metadata": {},
   "outputs": [
    {
     "name": "stdout",
     "output_type": "stream",
     "text": [
      "took 50 steps\n"
     ]
    },
    {
     "data": {
      "text/plain": [
       "True"
      ]
     },
     "execution_count": 6,
     "metadata": {},
     "output_type": "execute_result"
    }
   ],
   "source": [
    "disjoint2({1,2,3,4,5},{1,2,3,4,5},{11,12,13,14,15})"
   ]
  },
  {
   "cell_type": "markdown",
   "metadata": {},
   "source": [
    "Best case scenerio. A common value is immediately found"
   ]
  },
  {
   "cell_type": "code",
   "execution_count": 7,
   "metadata": {},
   "outputs": [
    {
     "name": "stdout",
     "output_type": "stream",
     "text": [
      "took 2 steps\n"
     ]
    },
    {
     "data": {
      "text/plain": [
       "False"
      ]
     },
     "execution_count": 7,
     "metadata": {},
     "output_type": "execute_result"
    }
   ],
   "source": [
    "disjoint2({1,2,3,4,5},{1,2,3,4,5},{1,2,3,4,5})"
   ]
  },
  {
   "cell_type": "markdown",
   "metadata": {},
   "source": [
    "We can see the low level code using the `dis` module"
   ]
  },
  {
   "cell_type": "code",
   "execution_count": 8,
   "metadata": {},
   "outputs": [],
   "source": [
    "#import dis\n",
    "#dis.dis(disjoint1)"
   ]
  },
  {
   "cell_type": "markdown",
   "metadata": {},
   "source": [
    "# Recursion"
   ]
  },
  {
   "cell_type": "code",
   "execution_count": null,
   "metadata": {},
   "outputs": [],
   "source": [
    "Consider the following file structure"
   ]
  }
 ],
 "metadata": {
  "kernelspec": {
   "display_name": "Python 3",
   "language": "python",
   "name": "python3"
  },
  "language_info": {
   "codemirror_mode": {
    "name": "ipython",
    "version": 3
   },
   "file_extension": ".py",
   "mimetype": "text/x-python",
   "name": "python",
   "nbconvert_exporter": "python",
   "pygments_lexer": "ipython3",
   "version": "3.7.4"
  }
 },
 "nbformat": 4,
 "nbformat_minor": 4
}
