{
 "cells": [
  {
   "cell_type": "code",
   "execution_count": 1,
   "metadata": {},
   "outputs": [],
   "source": [
    "import dis"
   ]
  },
  {
   "cell_type": "code",
   "execution_count": 2,
   "metadata": {},
   "outputs": [],
   "source": [
    "def disjoint1(A, B, C):\n",
    "    \"\"\"Return True if there is no element common to all three lists.\"\"\"\n",
    "    i=0\n",
    "    for a in A:\n",
    "        for b in B:\n",
    "            for c in C:\n",
    "                i += 1\n",
    "                if a == b == c:\n",
    "                    print('took {} steps'.format(i))\n",
    "                    return False # we found a common value\n",
    "    print('took {} steps'.format(i))\n",
    "    return True"
   ]
  },
  {
   "cell_type": "code",
   "execution_count": 6,
   "metadata": {},
   "outputs": [],
   "source": [
    "def disjoint2(A, B, C):\n",
    "    \"\"\"Return True if there is no element common to all three lists.\"\"\"\n",
    "    i=0\n",
    "    for a in A:\n",
    "        for b in B:\n",
    "            i += 1\n",
    "            if a == b: # only check C if we found match from A and B\n",
    "                for c in C:\n",
    "                    i += 1\n",
    "                    if a == c: # (and thus a == b == c)\n",
    "                        print('took {} steps'.format(i))\n",
    "                        return False # we found a common value\n",
    "    print('took {} steps'.format(i))\n",
    "    return True # if we reach this, sets are disjoint"
   ]
  },
  {
   "cell_type": "code",
   "execution_count": 15,
   "metadata": {},
   "outputs": [
    {
     "name": "stdout",
     "output_type": "stream",
     "text": [
      "took 125 steps\n"
     ]
    },
    {
     "data": {
      "text/plain": [
       "True"
      ]
     },
     "execution_count": 15,
     "metadata": {},
     "output_type": "execute_result"
    }
   ],
   "source": [
    "disjoint1({1,2,3,4,5},{6,7,8,9,10},{11,12,13,14,15})\n",
    "#dis.dis(disjoint1)"
   ]
  },
  {
   "cell_type": "code",
   "execution_count": 16,
   "metadata": {},
   "outputs": [
    {
     "name": "stdout",
     "output_type": "stream",
     "text": [
      "took 25 steps\n"
     ]
    },
    {
     "data": {
      "text/plain": [
       "True"
      ]
     },
     "execution_count": 16,
     "metadata": {},
     "output_type": "execute_result"
    }
   ],
   "source": [
    "disjoint2({1,2,3,4,5},{6,7,8,9,10},{11,12,13,14,15})"
   ]
  },
  {
   "cell_type": "code",
   "execution_count": 17,
   "metadata": {},
   "outputs": [
    {
     "name": "stdout",
     "output_type": "stream",
     "text": [
      "took 50 steps\n"
     ]
    },
    {
     "data": {
      "text/plain": [
       "True"
      ]
     },
     "execution_count": 17,
     "metadata": {},
     "output_type": "execute_result"
    }
   ],
   "source": [
    "disjoint2({1,2,3,4,5},{1,2,3,4,5},{11,12,13,14,15})"
   ]
  },
  {
   "cell_type": "code",
   "execution_count": null,
   "metadata": {},
   "outputs": [],
   "source": []
  }
 ],
 "metadata": {
  "kernelspec": {
   "display_name": "Python 3",
   "language": "python",
   "name": "python3"
  },
  "language_info": {
   "codemirror_mode": {
    "name": "ipython",
    "version": 3
   },
   "file_extension": ".py",
   "mimetype": "text/x-python",
   "name": "python",
   "nbconvert_exporter": "python",
   "pygments_lexer": "ipython3",
   "version": "3.7.4"
  }
 },
 "nbformat": 4,
 "nbformat_minor": 4
}
