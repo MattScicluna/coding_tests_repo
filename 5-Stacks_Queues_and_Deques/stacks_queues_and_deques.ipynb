{
 "cells": [
  {
   "cell_type": "markdown",
   "metadata": {},
   "source": [
    "# Stacks, Queues, Deques and Linked Lists\n",
    "\n",
    "This notebook describes Stacks, Queues and Deques in Python. It covers the following:\n",
    "\n",
    "1. Stack\n",
    "2. Queue\n",
    "3. Deque\n",
    "4. Singly Linked List\n",
    "5. Doubly Linked List\n",
    "\n",
    "For each concept, there are Python examples which help illustrate the ideas.\n"
   ]
  },
  {
   "cell_type": "markdown",
   "metadata": {},
   "source": [
    "## 1. Stack\n",
    "\n",
    "![](https://github.com/MattScicluna/coding_tests_repo/blob/second_branch/5-Stacks_Queues_and_Deques/images/stacks.png)\n",
    "\n",
    "Here is an implementation of a stack, where we adapt it from Python's `list` class \n",
    "\n",
    "### Adapter Pattern\n",
    "\n",
    "![](./images/adapter.png)"
   ]
  },
  {
   "cell_type": "code",
   "execution_count": 1,
   "metadata": {},
   "outputs": [],
   "source": [
    "class Empty(Exception):\n",
    "    \"\"\"Error attempting to access an element from an empty container.\"\"\"\n",
    "    pass\n",
    "\n",
    "class Stack:\n",
    "    def __init__(self):\n",
    "        self._data = []\n",
    "\n",
    "    def push(self, value):\n",
    "        self._data.append(value)\n",
    "\n",
    "    def pop(self):\n",
    "        if not self.is_empty():\n",
    "            return self._data.pop()\n",
    "        return Empty\n",
    "\n",
    "    def __len__(self):\n",
    "        return len(self._data)\n",
    "\n",
    "    def top(self):\n",
    "        if not self.is_empty():\n",
    "            return self._data[-1]\n",
    "        return Empty\n",
    "\n",
    "    def is_empty(self):\n",
    "        return len(self._data)==0\n",
    "    \n",
    "    def __repr__(self):\n",
    "        return str(self._data)"
   ]
  },
  {
   "cell_type": "markdown",
   "metadata": {},
   "source": [
    "We instantiate a Stack and ensure that it works as expected"
   ]
  },
  {
   "cell_type": "code",
   "execution_count": 2,
   "metadata": {},
   "outputs": [
    {
     "name": "stdout",
     "output_type": "stream",
     "text": [
      "None : [5]\n",
      "None : [5, 3]\n",
      "2 : [5, 3]\n",
      "3 : [5]\n",
      "False : [5]\n",
      "5 : []\n",
      "True : []\n",
      "<class '__main__.Empty'> : []\n",
      "None : [7]\n",
      "None : [7, 9]\n",
      "9 : [7, 9]\n",
      "None : [7, 9, 4]\n",
      "3 : [7, 9, 4]\n",
      "4 : [7, 9]\n",
      "None : [7, 9, 6]\n",
      "None : [7, 9, 6, 8]\n",
      "8 : [7, 9, 6]\n"
     ]
    }
   ],
   "source": [
    "S = Stack()\n",
    "out = S.push(5)\n",
    "print('{} : {}'.format(out, S))\n",
    "out = S.push(3)\n",
    "print('{} : {}'.format(out, S))\n",
    "out = len(S)\n",
    "print('{} : {}'.format(out, S))\n",
    "out = S.pop()\n",
    "print('{} : {}'.format(out, S))\n",
    "out = S.is_empty()\n",
    "print('{} : {}'.format(out, S))\n",
    "out = S.pop()\n",
    "print('{} : {}'.format(out, S))\n",
    "out = S.is_empty()\n",
    "print('{} : {}'.format(out, S))\n",
    "out = S.pop()\n",
    "print('{} : {}'.format(out, S))\n",
    "out = S.push(7)\n",
    "print('{} : {}'.format(out, S))\n",
    "out = S.push(9)\n",
    "print('{} : {}'.format(out, S))\n",
    "out = S.top()\n",
    "print('{} : {}'.format(out, S))\n",
    "out = S.push(4)\n",
    "print('{} : {}'.format(out, S))\n",
    "out = len(S)\n",
    "print('{} : {}'.format(out, S))\n",
    "out = S.pop()\n",
    "print('{} : {}'.format(out, S))\n",
    "out = S.push(6)\n",
    "print('{} : {}'.format(out, S))\n",
    "out = S.push(8)\n",
    "print('{} : {}'.format(out, S))\n",
    "out = S.pop()\n",
    "print('{} : {}'.format(out, S))"
   ]
  },
  {
   "cell_type": "markdown",
   "metadata": {},
   "source": [
    "We can use our Stack to create a function which determines whether delimiters are properly matched"
   ]
  },
  {
   "cell_type": "code",
   "execution_count": 3,
   "metadata": {},
   "outputs": [],
   "source": [
    "def is_matched(expr):\n",
    "    \"\"\"Return True if all delimiters are properly match; False otherwise.\"\"\"\n",
    "    lefty = '({['                                     # opening delimiters\n",
    "    righty = ')}]'                                    # respective closing delims\n",
    "    S = Stack()\n",
    "    for e in expr:\n",
    "        if e in lefty:\n",
    "            S.push(e)\n",
    "        elif e in righty:\n",
    "            if S.is_empty():\n",
    "                return False\n",
    "            old_e = S.pop()\n",
    "            if lefty.index(old_e) == righty.index(e): #  check correspondence\n",
    "                pass                                  #  corresponding delimeters\n",
    "            else:\n",
    "                return False                          #  delimiters do not correspond\n",
    "    return S.is_empty()"
   ]
  },
  {
   "cell_type": "code",
   "execution_count": 4,
   "metadata": {},
   "outputs": [
    {
     "name": "stdout",
     "output_type": "stream",
     "text": [
      "True\n",
      "True\n",
      "False\n",
      "False\n"
     ]
    }
   ],
   "source": [
    "print(is_matched('(this is a {test}) []'))\n",
    "print(is_matched('this is a test'))\n",
    "print(is_matched('this is a test [(])'))\n",
    "print(is_matched('[]this is a test {'))"
   ]
  },
  {
   "cell_type": "markdown",
   "metadata": {},
   "source": [
    "This code runs in $O(n)$ time, since there are at most $n$ push and pop operations, and each have (amortized) complexity of $O(1)$"
   ]
  },
  {
   "cell_type": "markdown",
   "metadata": {},
   "source": [
    "## 2. Queue\n",
    "\n",
    "![](./images/queue.png)\n",
    "\n",
    "We again implement a Queue by adapting it from Python's `list` class"
   ]
  },
  {
   "cell_type": "code",
   "execution_count": 5,
   "metadata": {},
   "outputs": [],
   "source": [
    "import copy\n",
    "\n",
    "class Queue:\n",
    "    \"\"\"\n",
    "    FIFO queue implementation using a Python list as underlying storage.\n",
    "    \"\"\"\n",
    "    DEFAULT_CAPACITY = 10\n",
    "    def __init__(self):\n",
    "        self._data = [None]*self.DEFAULT_CAPACITY         # reference to a list instance with a fixed capacity.\n",
    "        self._size = 0                                    # integer representing the current number of elements stored in the queue (as opposed to the length of the data list).\n",
    "        self._front = 0                                   # integer representing the index within data of the first element of the queue (assuming the queue is not empty).\n",
    "    \n",
    "    def _add_to_front(self, amount):\n",
    "        if self.is_empty():\n",
    "            return self._front + amount\n",
    "        return (self._front + amount) % len(self._data)\n",
    "    \n",
    "    def enqueue(self, value):\n",
    "        \"\"\"Add an element to the back of queue\"\"\"\n",
    "        #  increase size of array when out of space\n",
    "        if len(self) == len(self._data):\n",
    "            self._change_capacity(len(self._data)*2)\n",
    "        self._data[self._add_to_front(self._size)] = value\n",
    "        self._size += 1\n",
    "\n",
    "    def dequeue(self):\n",
    "        \"\"\"\n",
    "        Remove and return the first element of the queue (i.e., FIFO).\n",
    "        Raise Empty exception if the queue is empty.\n",
    "        \"\"\"\n",
    "        if self.is_empty():\n",
    "            return Empty\n",
    "        val = copy.deepcopy(self._data[self._front])\n",
    "        self._data[self._front] = None                    # remove reference of object for Python garbage collection\n",
    "        self._front = self._add_to_front(1)\n",
    "        self._size -= 1\n",
    "        #  decrease size of array when only using < 1/4\n",
    "        if self._size < (len(self._data) // 4):\n",
    "            self._change_capacity(len(self._data) // 2)\n",
    "        return val\n",
    "\n",
    "    def __len__(self):\n",
    "        \"\"\"Return the number of elements in the queue\"\"\"\n",
    "        return self._size\n",
    "\n",
    "    def first(self):\n",
    "        \"\"\"\n",
    "        Return (but do not remove) the element at the front of the queue.\n",
    "        Raise Empty exception if the queue is empty.\n",
    "        \"\"\"\n",
    "        if self.is_empty():\n",
    "            return Empty\n",
    "        return self._data[self._front]\n",
    "\n",
    "    def is_empty(self):\n",
    "        \"\"\"Return True if the queue is empty\"\"\"\n",
    "        return len(self) == 0\n",
    "    \n",
    "    def __repr__(self):\n",
    "        if self.is_empty():\n",
    "            return '[]'\n",
    "        string = '['\n",
    "        for j in range(self._size):\n",
    "            string += str(self._data[self._add_to_front(j)]) + ','\n",
    "        string = string[:-1]\n",
    "        string += ']'\n",
    "        return string\n",
    "    \n",
    "    def _change_capacity(self, amount):\n",
    "        \"\"\"\n",
    "        Change capacity of list by amount and shift indices to front\n",
    "        Recall Dynamic Arrays from Chapter 5\n",
    "        \"\"\"\n",
    "        new_data = [None]*amount\n",
    "        i = 0\n",
    "        for j in range(self._size):\n",
    "            new_data[i] = self._data[self._add_to_front(j)]\n",
    "            i += 1\n",
    "        self._data = new_data\n",
    "        self._front = 0"
   ]
  },
  {
   "cell_type": "markdown",
   "metadata": {},
   "source": [
    "We instantiate a Queue to make sure it works as expected"
   ]
  },
  {
   "cell_type": "code",
   "execution_count": 6,
   "metadata": {},
   "outputs": [
    {
     "name": "stdout",
     "output_type": "stream",
     "text": [
      "None : [5]\n",
      "None : [5,3]\n",
      "2 : [5,3]\n",
      "5 : [3]\n",
      "False : [3]\n",
      "3 : []\n",
      "True : []\n",
      "<class '__main__.Empty'> : []\n",
      "None : [7]\n",
      "None : [7,9]\n",
      "7 : [7,9]\n",
      "None : [7,9,4]\n",
      "3 : [7,9,4]\n",
      "7 : [9,4]\n"
     ]
    }
   ],
   "source": [
    "Q = Queue()\n",
    "out = Q.enqueue(5)\n",
    "print('{} : {}'.format(out, Q))\n",
    "out = Q.enqueue(3)\n",
    "print('{} : {}'.format(out, Q))\n",
    "out = len(Q)\n",
    "print('{} : {}'.format(out, Q))\n",
    "out = Q.dequeue()\n",
    "print('{} : {}'.format(out, Q))\n",
    "out = Q.is_empty()\n",
    "print('{} : {}'.format(out, Q))\n",
    "out = Q.dequeue()\n",
    "print('{} : {}'.format(out, Q))\n",
    "out = Q.is_empty()\n",
    "print('{} : {}'.format(out, Q))\n",
    "out = Q.dequeue()\n",
    "print('{} : {}'.format(out, Q))\n",
    "out = Q.enqueue(7)\n",
    "print('{} : {}'.format(out, Q))\n",
    "out = Q.enqueue(9)\n",
    "print('{} : {}'.format(out, Q))\n",
    "out = Q.first()\n",
    "print('{} : {}'.format(out, Q))\n",
    "out = Q.enqueue(4)\n",
    "print('{} : {}'.format(out, Q))\n",
    "out = len(Q)\n",
    "print('{} : {}'.format(out, Q))\n",
    "out = Q.dequeue()\n",
    "print('{} : {}'.format(out, Q))"
   ]
  },
  {
   "cell_type": "markdown",
   "metadata": {},
   "source": [
    "We additionally check that it can handle dynamic resizing (since it is using a list with fixed capacity which it increases/decreases as needed)\n",
    "\n",
    "We can see that the internal representation of the queue is faithful as is the string representation."
   ]
  },
  {
   "cell_type": "code",
   "execution_count": 7,
   "metadata": {},
   "outputs": [
    {
     "name": "stdout",
     "output_type": "stream",
     "text": [
      "[None, 13, 14, None, None, None, None, None]\n",
      "[13,14]\n"
     ]
    }
   ],
   "source": [
    "Q = Queue()\n",
    "\n",
    "for i in range(5):\n",
    "    Q.enqueue(i)\n",
    "for _ in range(5):\n",
    "    Q.dequeue()\n",
    "for i in range(5, 15):\n",
    "    Q.enqueue(i)\n",
    "for _ in range(8):\n",
    "    Q.dequeue()\n",
    "\n",
    "print(Q._data)\n",
    "print(Q)"
   ]
  },
  {
   "cell_type": "markdown",
   "metadata": {},
   "source": [
    "## 3. Deque\n",
    "\n",
    "These are double ended queues, so you can add and delete from both sides.\n",
    "\n",
    "They are already implemented in Pythons `collections` module"
   ]
  },
  {
   "cell_type": "code",
   "execution_count": 8,
   "metadata": {},
   "outputs": [],
   "source": [
    "from collections import deque"
   ]
  },
  {
   "cell_type": "code",
   "execution_count": 9,
   "metadata": {},
   "outputs": [
    {
     "name": "stdout",
     "output_type": "stream",
     "text": [
      "None : deque([5])\n",
      "None : deque([5, 3])\n",
      "2 : deque([5, 3])\n",
      "None : deque([5, 3, 5])\n",
      "2 : deque([5, 3, 5])\n",
      "5 : deque([3, 5])\n",
      "5 : deque([3])\n",
      "None : deque([3, 3])\n",
      "None : deque([3, 3, 3])\n",
      "None : deque([3, 999, 3])\n",
      "None : deque([999, 3, 3])\n",
      "None : deque([3, 3])\n",
      "None : deque([])\n"
     ]
    }
   ],
   "source": [
    "D = deque()\n",
    "out = D.appendleft(5)           # add to beginning\n",
    "print('{} : {}'.format(out, D))\n",
    "out = D.append(3)               # add to end\n",
    "print('{} : {}'.format(out, D))\n",
    "out = len(D)                    # number of elements\n",
    "print('{} : {}'.format(out, D))\n",
    "out = D.append(5)\n",
    "print('{} : {}'.format(out, D))\n",
    "out = D.count(5)                # count number of matches for e=5\n",
    "print('{} : {}'.format(out, D))\n",
    "out = D.popleft()               # remove from beginning\n",
    "print('{} : {}'.format(out, D))\n",
    "out = D.pop()                   # remove from end\n",
    "print('{} : {}'.format(out, D))\n",
    "out = D.append(D[0])\n",
    "print('{} : {}'.format(out, D))\n",
    "out = D.appendleft(D[-1])\n",
    "print('{} : {}'.format(out, D))\n",
    "D[1] = 999\n",
    "print('{} : {}'.format(out, D))\n",
    "out = D.rotate(2)               # circularly shift rightward k=2 steps\n",
    "print('{} : {}'.format(out, D))\n",
    "out = D.remove(999)             # remove first matching element\n",
    "print('{} : {}'.format(out, D))\n",
    "out = D.clear()                 # clear all contents\n",
    "print('{} : {}'.format(out, D))"
   ]
  },
  {
   "cell_type": "markdown",
   "metadata": {},
   "source": [
    "## 4. Singly Linked Lists\n",
    "\n",
    "Note: linked lists are an alternative to array based sequences (which we've used in our above implementations of Stacks and Queues)\n",
    "\n",
    "![](./images/SLL.png)\n",
    "\n",
    "We implement a Stack using a Linked List"
   ]
  },
  {
   "cell_type": "code",
   "execution_count": 10,
   "metadata": {},
   "outputs": [],
   "source": [
    "class LinkedStack:\n",
    "    \"\"\"\n",
    "    LIFO Stack implementation using a singly linked list for storage.\n",
    "    Notice how we orient the linkedlist s.t. the head of the list \n",
    "    corresponds to the top of the stack\n",
    "    \"\"\"\n",
    "    #-------------------------- nested Node class --------------------------\n",
    "    class _Node:\n",
    "        \"\"\"Lightweight, nonpublic class for storing a singly linked node.\"\"\"\n",
    "        __slots__ = '_element' , '_next'     # streamline memory usage\n",
    "        def __init__(self, element, next):   # initialize node’s fields\n",
    "            self._element = element          # reference to user’s element\n",
    "            self._next = next                # reference to next node\n",
    "        def __repr__(self):\n",
    "            return str(self._element)\n",
    "    \n",
    "    def __init__(self):\n",
    "        \"\"\"\n",
    "        Create an empty stack\n",
    "        \"\"\"\n",
    "        self._head = None                    # reference to the node at the head of the list (or None, if the stack is empty)\n",
    "        self._size = 0                       # current number of elements\n",
    "\n",
    "    def push(self, e):\n",
    "        \"\"\"\n",
    "        Add element e to the top of the stack\n",
    "        \"\"\"\n",
    "        self._head = self._Node(e, self._head) # create and link a new node\n",
    "        self._size += 1\n",
    "\n",
    "    def pop(self):\n",
    "        \"\"\"\n",
    "        Remove and return the element from the top of the stack (i.e., LIFO).\n",
    "        Raise Empty exception if the stack is empty.\n",
    "        \"\"\"\n",
    "        if not self.is_empty():\n",
    "            to_return = copy.deepcopy(self._head)\n",
    "            self._head = self._head._next\n",
    "            self._size -= 1\n",
    "            return to_return._element\n",
    "        return Empty\n",
    "\n",
    "    def __len__(self):\n",
    "        \"\"\"\n",
    "        Return the number of elements in the stack\n",
    "        \"\"\"\n",
    "        return self._size\n",
    "\n",
    "    def top(self):\n",
    "        \"\"\"\n",
    "        Return (but do not remove) the element at the top of the stack.\n",
    "        Raise Empty exception if the stack is empty.\n",
    "        \"\"\"\n",
    "        if not self.is_empty():\n",
    "            return self._head._element\n",
    "        return Empty\n",
    "\n",
    "    def is_empty(self):\n",
    "        \"\"\"\n",
    "        Return True if the stack is empty\n",
    "        \"\"\"\n",
    "        return self._head is None\n",
    "    \n",
    "    def __repr__(self):\n",
    "        if self.is_empty():\n",
    "            return '[]'\n",
    "        string = '['\n",
    "        curr_node = self._head\n",
    "        for _ in range(self._size):\n",
    "            string += str(curr_node) + ','\n",
    "            curr_node = curr_node._next\n",
    "        string = string[:-1]\n",
    "        string += ']'\n",
    "        return string"
   ]
  },
  {
   "cell_type": "markdown",
   "metadata": {},
   "source": [
    "We run the same tests to make sure our `LinkedStack` works the same way as the array-based `Stack`"
   ]
  },
  {
   "cell_type": "code",
   "execution_count": 11,
   "metadata": {},
   "outputs": [
    {
     "name": "stdout",
     "output_type": "stream",
     "text": [
      "None : [5]\n",
      "None : [3,5]\n",
      "2 : [3,5]\n",
      "3 : [5]\n",
      "False : [5]\n",
      "5 : []\n",
      "True : []\n",
      "<class '__main__.Empty'> : []\n",
      "None : [7]\n",
      "None : [9,7]\n",
      "9 : [9,7]\n",
      "None : [4,9,7]\n",
      "3 : [4,9,7]\n",
      "4 : [9,7]\n",
      "None : [6,9,7]\n",
      "None : [8,6,9,7]\n",
      "8 : [6,9,7]\n"
     ]
    }
   ],
   "source": [
    "S = LinkedStack()\n",
    "out = S.push(5)\n",
    "print('{} : {}'.format(out, S))\n",
    "out = S.push(3)\n",
    "print('{} : {}'.format(out, S))\n",
    "out = len(S)\n",
    "print('{} : {}'.format(out, S))\n",
    "out = S.pop()\n",
    "print('{} : {}'.format(out, S))\n",
    "out = S.is_empty()\n",
    "print('{} : {}'.format(out, S))\n",
    "out = S.pop()\n",
    "print('{} : {}'.format(out, S))\n",
    "out = S.is_empty()\n",
    "print('{} : {}'.format(out, S))\n",
    "out = S.pop()\n",
    "print('{} : {}'.format(out, S))\n",
    "out = S.push(7)\n",
    "print('{} : {}'.format(out, S))\n",
    "out = S.push(9)\n",
    "print('{} : {}'.format(out, S))\n",
    "out = S.top()\n",
    "print('{} : {}'.format(out, S))\n",
    "out = S.push(4)\n",
    "print('{} : {}'.format(out, S))\n",
    "out = len(S)\n",
    "print('{} : {}'.format(out, S))\n",
    "out = S.pop()\n",
    "print('{} : {}'.format(out, S))\n",
    "out = S.push(6)\n",
    "print('{} : {}'.format(out, S))\n",
    "out = S.push(8)\n",
    "print('{} : {}'.format(out, S))\n",
    "out = S.pop()\n",
    "print('{} : {}'.format(out, S))"
   ]
  },
  {
   "cell_type": "markdown",
   "metadata": {},
   "source": [
    "We implement the Queue using a Linked List"
   ]
  },
  {
   "cell_type": "code",
   "execution_count": 12,
   "metadata": {},
   "outputs": [],
   "source": [
    "class LinkedQueue:\n",
    "    \"\"\"\n",
    "    FIFO queue implementation using a singly linked list for storage.\n",
    "    Notice how we orient the linkedlist s.t. the head of the list \n",
    "    corresponds to the front of the queue (otherwise, dequeueing would be O(n))\n",
    "    \"\"\"\n",
    "    #-------------------------- nested Node class --------------------------\n",
    "    class _Node:\n",
    "        \"\"\"Lightweight, nonpublic class for storing a singly linked node.\"\"\"\n",
    "        __slots__ = '_element' , '_next'     # streamline memory usage\n",
    "        def __init__(self, element, next):   # initialize node’s fields\n",
    "            self._element = element          # reference to user’s element\n",
    "            self._next = next                # reference to next node\n",
    "        def __repr__(self):\n",
    "            return str(self._element)\n",
    "\n",
    "    def __init__(self):\n",
    "        \"\"\"Create an empty queue.\"\"\"\n",
    "        self._head = None\n",
    "        self._tail = None\n",
    "        self._size = 0                       # number of queue elements\n",
    "\n",
    "    def enqueue(self, value):\n",
    "        \"\"\"Add an element to the back of queue\"\"\"\n",
    "        new = self._Node(value, None)        # create node pointing to None\n",
    "        if self.is_empty():\n",
    "            self._head = new\n",
    "            self._tail = new\n",
    "        else:\n",
    "            self._tail._next = new               # make current tail point to new node\n",
    "            self._tail = new                     # set tail node to the new node\n",
    "        self._size += 1\n",
    "\n",
    "    def dequeue(self):\n",
    "        \"\"\"\n",
    "        Remove and return the first element of the queue (i.e., FIFO).\n",
    "        Raise Empty exception if the queue is empty.\n",
    "        \"\"\"\n",
    "        if self.is_empty():\n",
    "            return Empty\n",
    "        val = copy.deepcopy(self._head._element)\n",
    "        self._head = self._head._next\n",
    "        self._size -= 1\n",
    "        return val\n",
    "\n",
    "    def __len__(self):\n",
    "        \"\"\"Return the number of elements in the queue\"\"\"\n",
    "        return self._size\n",
    "\n",
    "    def first(self):\n",
    "        \"\"\"\n",
    "        Return (but do not remove) the element at the front of the queue.\n",
    "        Raise Empty exception if the queue is empty.\n",
    "        \"\"\"\n",
    "        if self.is_empty():\n",
    "            return Empty\n",
    "        return self._head._element\n",
    "\n",
    "    def is_empty(self):\n",
    "        \"\"\"Return True if the queue is empty\"\"\"\n",
    "        return len(self) == 0\n",
    "    \n",
    "    def __repr__(self):\n",
    "        if self.is_empty():\n",
    "            return '[]'\n",
    "        string = '['\n",
    "        curr_node = self._head\n",
    "        for _ in range(self._size):\n",
    "            string += str(curr_node) + ','\n",
    "            curr_node = curr_node._next\n",
    "        string = string[:-1]\n",
    "        string += ']'\n",
    "        return string"
   ]
  },
  {
   "cell_type": "markdown",
   "metadata": {},
   "source": [
    "Again, we ensure that the output for the `LinkedQueue` matches with the array-based `Queue`"
   ]
  },
  {
   "cell_type": "code",
   "execution_count": 13,
   "metadata": {},
   "outputs": [
    {
     "name": "stdout",
     "output_type": "stream",
     "text": [
      "None : [5]\n",
      "None : [5,3]\n",
      "2 : [5,3]\n",
      "5 : [3]\n",
      "False : [3]\n",
      "3 : []\n",
      "True : []\n",
      "<class '__main__.Empty'> : []\n",
      "None : [7]\n",
      "None : [7,9]\n",
      "7 : [7,9]\n",
      "None : [7,9,4]\n",
      "3 : [7,9,4]\n",
      "7 : [9,4]\n"
     ]
    }
   ],
   "source": [
    "Q = LinkedQueue()\n",
    "out = Q.enqueue(5)\n",
    "print('{} : {}'.format(out, Q))\n",
    "out = Q.enqueue(3)\n",
    "print('{} : {}'.format(out, Q))\n",
    "out = len(Q)\n",
    "print('{} : {}'.format(out, Q))\n",
    "out = Q.dequeue()\n",
    "print('{} : {}'.format(out, Q))\n",
    "out = Q.is_empty()\n",
    "print('{} : {}'.format(out, Q))\n",
    "out = Q.dequeue()\n",
    "print('{} : {}'.format(out, Q))\n",
    "out = Q.is_empty()\n",
    "print('{} : {}'.format(out, Q))\n",
    "out = Q.dequeue()\n",
    "print('{} : {}'.format(out, Q))\n",
    "out = Q.enqueue(7)\n",
    "print('{} : {}'.format(out, Q))\n",
    "out = Q.enqueue(9)\n",
    "print('{} : {}'.format(out, Q))\n",
    "out = Q.first()\n",
    "print('{} : {}'.format(out, Q))\n",
    "out = Q.enqueue(4)\n",
    "print('{} : {}'.format(out, Q))\n",
    "out = len(Q)\n",
    "print('{} : {}'.format(out, Q))\n",
    "out = Q.dequeue()\n",
    "print('{} : {}'.format(out, Q))"
   ]
  },
  {
   "cell_type": "code",
   "execution_count": 14,
   "metadata": {},
   "outputs": [
    {
     "name": "stdout",
     "output_type": "stream",
     "text": [
      "[13,14]\n"
     ]
    }
   ],
   "source": [
    "Q = LinkedQueue()\n",
    "\n",
    "for i in range(5):\n",
    "    Q.enqueue(i)\n",
    "for _ in range(5):\n",
    "    Q.dequeue()\n",
    "for i in range(5, 15):\n",
    "    Q.enqueue(i)\n",
    "for _ in range(8):\n",
    "    Q.dequeue()\n",
    "\n",
    "print(Q)"
   ]
  },
  {
   "cell_type": "markdown",
   "metadata": {},
   "source": [
    "### Circularly Linked List\n",
    "\n",
    "![](./images/CLL.png)"
   ]
  },
  {
   "cell_type": "markdown",
   "metadata": {},
   "source": [
    "## 5. Doubly Linked List\n",
    "\n",
    "![](./images/DLL.png)\n",
    "\n",
    "We create a class `_DoublyLinkedBase` which our class `LinkedDeque` inherits from. \n",
    "\n",
    "`LinkedDeque` is our implementation of a Deque using a Doubly Linked List."
   ]
  },
  {
   "cell_type": "code",
   "execution_count": 15,
   "metadata": {},
   "outputs": [],
   "source": [
    "class _DoublyLinkedBase:\n",
    "    \"\"\"A base class providing a doubly linked list representation\"\"\"\n",
    "\n",
    "    class _Node:\n",
    "        \"\"\"Lightweight, nonpublic class for storing a doubly linked node.\"\"\"\n",
    "        slots = '_element' , '_prev' , '_next' # streamline memory\n",
    "        def __init__(self, element, prev, next): # initialize node’s fields\n",
    "            self._element = element # user’s element\n",
    "            self._prev = prev # previous node reference\n",
    "            self._next = next # next node reference\n",
    "        def __repr__(self):\n",
    "            return str(self._element)\n",
    "\n",
    "    def __init__(self):\n",
    "        self._header = self._Node(None, None, None)\n",
    "        self._trailer = self._Node(None, self._header, None)\n",
    "        self._header._next = self._trailer\n",
    "        self._size = 0\n",
    "\n",
    "    def __len__(self):\n",
    "        \"\"\"Return the number of elements in the queue\"\"\"\n",
    "        return self._size\n",
    "\n",
    "    def is_empty(self):\n",
    "        \"\"\"Return True if the queue is empty\"\"\"\n",
    "        return len(self) == 0\n",
    "\n",
    "    def _insert_between(self, e, predecessor, successor):\n",
    "        \"\"\"Add element e between two existing nodes and return new node.\"\"\"\n",
    "        new = self._Node(e, predecessor, successor)\n",
    "        predecessor._next = new\n",
    "        successor._prev = new\n",
    "        self._size += 1\n",
    "        return new\n",
    "\n",
    "    def _delete_node(self, node):\n",
    "        \"\"\"Delete nonsentinel node from the list and return its element.\"\"\"\n",
    "        previous = node._prev\n",
    "        successor = node._next\n",
    "        previous._next = successor\n",
    "        successor._prev = previous\n",
    "        self._size -= 1\n",
    "        element = node._element\n",
    "        node._prev = node._next = node._element = None  # indicates depricate node, and removes any references to help Python with garbage collection\n",
    "        return element\n"
   ]
  },
  {
   "cell_type": "code",
   "execution_count": 16,
   "metadata": {},
   "outputs": [],
   "source": [
    "class LinkedDeque(_DoublyLinkedBase): # note the use of inheritance\n",
    "    \"\"\"Double-ended queue implementation based on a doubly linked list.\"\"\"\n",
    "    \n",
    "    def first(self):\n",
    "        \"\"\"Return (but do not remove) the element at the front of the deque.\"\"\"\n",
    "        if self.is_empty():\n",
    "            return Empty\n",
    "        return self._header._next._element\n",
    "        \n",
    "\n",
    "    def last(self):\n",
    "        \"\"\"Return (but do not remove) the element at the back of the deque.\"\"\"\n",
    "        if self.is_empty():\n",
    "            return Empty\n",
    "        return self._trailer._prev._element\n",
    "\n",
    "    def insert_first(self, e):\n",
    "        \"\"\"Add an element to the front of the deque.\"\"\"\n",
    "        self._insert_between(e, self._header, self._header._next)\n",
    "\n",
    "    def insert_last(self, e):\n",
    "        \"\"\"Add an element to the back of the deque.\"\"\"\n",
    "        self._insert_between(e, self._trailer._prev, self._trailer)\n",
    "    \n",
    "    def delete_first(self):\n",
    "        \"\"\"\n",
    "        Remove and return the element from the front of the deque.\n",
    "        Raise Empty exception if the deque is empty.\n",
    "        \"\"\"\n",
    "        if self.is_empty():\n",
    "            return Empty\n",
    "        return self._delete_node(self._header._next)\n",
    "    \n",
    "    def delete_last(self):\n",
    "        \"\"\"\n",
    "        Remove and return the element from the front of the deque.\n",
    "        Raise Empty exception if the deque is empty.\n",
    "        \"\"\"\n",
    "        if self.is_empty():\n",
    "            return Empty\n",
    "        return self._delete_node(self._trailer._prev)\n",
    "    \n",
    "    def __repr__(self):\n",
    "        if self.is_empty():\n",
    "            return '[]'\n",
    "        else:\n",
    "            string = '['\n",
    "            curr_node = self._header._next\n",
    "            for _ in range(self._size):\n",
    "                string += str(curr_node) + ','\n",
    "                curr_node = curr_node._next\n",
    "            string = string[:-1]\n",
    "            return string + ']'"
   ]
  },
  {
   "cell_type": "markdown",
   "metadata": {},
   "source": [
    "We instantiate our `LinkedDeque` object and ensure that it is working properly."
   ]
  },
  {
   "cell_type": "code",
   "execution_count": 17,
   "metadata": {},
   "outputs": [
    {
     "name": "stdout",
     "output_type": "stream",
     "text": [
      "None [1]\n",
      "None [1,2]\n",
      "1 [1,2]\n",
      "None [1,2,3]\n",
      "3 [1,2]\n",
      "1 [2]\n",
      "2 []\n",
      "<class '__main__.Empty'> []\n"
     ]
    }
   ],
   "source": [
    "L = LinkedDeque()\n",
    "print(L.insert_first(1), L)\n",
    "print(L.insert_last(2), L)\n",
    "print(L.first(), L)\n",
    "print(L.insert_last(3), L)\n",
    "print(L.delete_last(), L)\n",
    "print(L.delete_first(), L)\n",
    "print(L.delete_first(), L)\n",
    "print(L.delete_first(), L)"
   ]
  },
  {
   "cell_type": "markdown",
   "metadata": {},
   "source": [
    "Notice how a new element appears in the list! (when we `_insert_between` method improperly!)\n",
    "\n",
    "This is why we shouldn't try to call access hidden attributes/methods"
   ]
  },
  {
   "cell_type": "code",
   "execution_count": 18,
   "metadata": {},
   "outputs": [
    {
     "data": {
      "text/plain": [
       "4"
      ]
     },
     "execution_count": 18,
     "metadata": {},
     "output_type": "execute_result"
    }
   ],
   "source": [
    "L.insert_first(66)\n",
    "L._insert_between(4, L._header, L._Node(77, None, None)) #  calling method with nodes not in linkedlist!"
   ]
  },
  {
   "cell_type": "markdown",
   "metadata": {},
   "source": [
    "Comparison of Array-Based and Linked structures:\n",
    "\n",
    "![](./images/table.png)\n",
    "\n",
    "Note: \n",
    "* Operations with equivalent asymptotic bounds typically run a constant factor more efficiently with an array-based structure versus a linked structure(since more CPU operations like instantiating new nodes, linking, etc.…)\n",
    "* BUT, linked structures have better worst-case bounds, since no resizing!\n"
   ]
  },
  {
   "cell_type": "code",
   "execution_count": null,
   "metadata": {},
   "outputs": [],
   "source": []
  }
 ],
 "metadata": {
  "kernelspec": {
   "display_name": "Python 3",
   "language": "python",
   "name": "python3"
  },
  "language_info": {
   "codemirror_mode": {
    "name": "ipython",
    "version": 3
   },
   "file_extension": ".py",
   "mimetype": "text/x-python",
   "name": "python",
   "nbconvert_exporter": "python",
   "pygments_lexer": "ipython3",
   "version": "3.7.4"
  }
 },
 "nbformat": 4,
 "nbformat_minor": 4
}
