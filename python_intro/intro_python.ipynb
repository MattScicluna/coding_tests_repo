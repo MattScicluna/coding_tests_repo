{
 "cells": [
  {
   "cell_type": "markdown",
   "metadata": {},
   "source": [
    "# Python Overview\n",
    "\n",
    "This chapter contains an overview to Python. It covers the following:\n",
    "\n",
    "1. The Assignment Operation\n",
    "2. Instantiation\n",
    "3. Methods\n",
    "4. Expressions and Operators\n",
    "5. Functions\n",
    "6. Exceptions\n",
    "7. Iterable Type\n",
    "8. Scopes and Namespaces\n",
    "9. Loading Modules\n",
    "\n",
    "For each of these, I've added my notes and some examples to help see what Python is doing."
   ]
  },
  {
   "cell_type": "markdown",
   "metadata": {},
   "source": [
    "Python is an <u>interpreted language</u>. \n",
    "* The interpreter receives code from a script and executes it.\n",
    "* The interpreter is run in interactive mode by default (i.e. when typing python into the terminal).\n",
    "* Python is an <u>object oriented language</u> and <u>Classes</u> form the basis for all data types.\n"
   ]
  },
  {
   "cell_type": "markdown",
   "metadata": {},
   "source": [
    "## 1. The Assignment Operation\n",
    "\n",
    "* Each <u>identifier</u> is associated with the memory address of the object to which it refers (or to the special object None)\n",
    "* Python is <u>dynamically typed</u>. Do not need to declare the data type of the identifier\n",
    "* <u>Alias</u> an object by assigning a second identifier to it\n",
    "\n",
    "\n",
    "Lets assign an _Identifier/name_ gets assigned an _object_."
   ]
  },
  {
   "cell_type": "code",
   "execution_count": 1,
   "metadata": {},
   "outputs": [],
   "source": [
    "temperature = 98.6"
   ]
  },
  {
   "cell_type": "markdown",
   "metadata": {},
   "source": [
    "We can _alias_ an object by assigning a second identifier to it:"
   ]
  },
  {
   "cell_type": "code",
   "execution_count": 2,
   "metadata": {},
   "outputs": [],
   "source": [
    "original = temperature   # alias"
   ]
  },
  {
   "cell_type": "markdown",
   "metadata": {},
   "source": [
    "We can see that these point to the same object"
   ]
  },
  {
   "cell_type": "code",
   "execution_count": 3,
   "metadata": {},
   "outputs": [
    {
     "data": {
      "text/plain": [
       "True"
      ]
     },
     "execution_count": 3,
     "metadata": {},
     "output_type": "execute_result"
    }
   ],
   "source": [
    "id(original) == id(temperature)"
   ]
  },
  {
   "cell_type": "markdown",
   "metadata": {},
   "source": [
    "We can _break_ this alias"
   ]
  },
  {
   "cell_type": "code",
   "execution_count": 4,
   "metadata": {},
   "outputs": [
    {
     "data": {
      "text/plain": [
       "False"
      ]
     },
     "execution_count": 4,
     "metadata": {},
     "output_type": "execute_result"
    }
   ],
   "source": [
    "temperature = temperature + 5.0\n",
    "id(original) == id(temperature)"
   ]
  },
  {
   "cell_type": "markdown",
   "metadata": {},
   "source": [
    "## Instantiation"
   ]
  },
  {
   "cell_type": "code",
   "execution_count": 5,
   "metadata": {},
   "outputs": [],
   "source": [
    "temperature = 98.6 # literal form\n",
    "temperature2 = float(98.6) # calling constructor method"
   ]
  },
  {
   "cell_type": "markdown",
   "metadata": {},
   "source": [
    "## Expressions and Operators\n",
    "\n",
    "`is` (alias) versus `==` (equivalence)\n",
    "\n",
    "We can see that: `is` => `==`"
   ]
  },
  {
   "cell_type": "code",
   "execution_count": 6,
   "metadata": {},
   "outputs": [
    {
     "name": "stdout",
     "output_type": "stream",
     "text": [
      "True\n",
      "True\n",
      "False\n",
      "True\n"
     ]
    }
   ],
   "source": [
    "a = [10]\n",
    "b = a # a, b alias\n",
    "c = [10]\n",
    "\n",
    "print(a is b) # true\n",
    "print(a == b) # true\n",
    "print(a is c) # false\n",
    "print(a == c) # true"
   ]
  },
  {
   "cell_type": "markdown",
   "metadata": {},
   "source": [
    "`x+=y` versus `x = x + y`"
   ]
  },
  {
   "cell_type": "code",
   "execution_count": 7,
   "metadata": {},
   "outputs": [
    {
     "name": "stdout",
     "output_type": "stream",
     "text": [
      "alpha = [1, 2, 3, 4, 5]\n",
      "beta = [1, 2, 3, 4, 5, 6, 7]\n"
     ]
    }
   ],
   "source": [
    "alpha = [1, 2, 3]\n",
    "beta = alpha                        # an alias for alpha\n",
    "beta += [4, 5]                      # mutates the original list by extending it\n",
    "beta = beta + [6, 7]                # reassigns beta to a new list (i.e. broke the alias)\n",
    "print('alpha = {}'.format(alpha))\n",
    "print('beta = {}'.format(beta))"
   ]
  },
  {
   "cell_type": "markdown",
   "metadata": {},
   "source": [
    "Note that lists are _mutable classes_. The behavior is different if the class is not mutable (e.g. tuples)"
   ]
  },
  {
   "cell_type": "code",
   "execution_count": 8,
   "metadata": {},
   "outputs": [
    {
     "name": "stdout",
     "output_type": "stream",
     "text": [
      "alpha = (1, 2, 3)\n",
      "beta = (1, 2, 3, 4, 5)\n"
     ]
    }
   ],
   "source": [
    "alpha = (1, 2, 3)\n",
    "beta = alpha                        # an alias for alpha\n",
    "beta += (4, 5)                      # reassigns beta to a new tuple (1, 2, 3, 4, 5)\n",
    "print('alpha = {}'.format(alpha))   # will be (1, 2, 3) NOT (1, 2, 3, 4, 5)\n",
    "print('beta = {}'.format(beta))"
   ]
  },
  {
   "cell_type": "markdown",
   "metadata": {},
   "source": [
    "Although tuples are themselves immutable, their contents can be mutatable datatypes (and hence can mutate)!"
   ]
  },
  {
   "cell_type": "code",
   "execution_count": 9,
   "metadata": {},
   "outputs": [
    {
     "name": "stdout",
     "output_type": "stream",
     "text": [
      "alpha = ([1, 12, 3], [4, 5, 6])\n",
      "beta = ([1, 12, 3], [4, 5, 6])\n"
     ]
    }
   ],
   "source": [
    "alpha = ([1,2,3], [4,5,6])\n",
    "beta = alpha                              # alias for alpha\n",
    "\n",
    "alpha[0][1] += 10                         # changing a mutable element of alpha\n",
    "print('alpha = {}'.format(alpha))\n",
    "print('beta = {}'.format(beta))           # notice both have changed!"
   ]
  },
  {
   "cell_type": "markdown",
   "metadata": {},
   "source": [
    "Operations depend on data type (are overloaded)"
   ]
  },
  {
   "cell_type": "code",
   "execution_count": 10,
   "metadata": {},
   "outputs": [
    {
     "name": "stdout",
     "output_type": "stream",
     "text": [
      "hihihi\n",
      "hihihi\n"
     ]
    }
   ],
   "source": [
    "print(3*'hi') # uses the * implementation of string vs int\n",
    "print('hi'*3)"
   ]
  },
  {
   "cell_type": "markdown",
   "metadata": {},
   "source": [
    "Can make your own class and overload operations like `+`, `len`, ..."
   ]
  },
  {
   "cell_type": "code",
   "execution_count": 11,
   "metadata": {},
   "outputs": [],
   "source": [
    "class vector():\n",
    "    def __init__(self, d):\n",
    "        self._coords = [0]*d\n",
    "    def __len__(self):\n",
    "        return len(self._coords)\n",
    "    def __getitem__(self, i):\n",
    "        return self._coords[i]\n",
    "    def __add__(self, other):\n",
    "        for i in range(len(self)):\n",
    "            self[i] += other[i]\n",
    "    def __setitem__(self, j, val):\n",
    "        self._coords[j] = val\n",
    "    def __repr__(self):\n",
    "        to_return = '<'\n",
    "        for i in range(len(self)):\n",
    "            to_return += ' {} '.format(self[i])\n",
    "        to_return += '>'\n",
    "        return to_return"
   ]
  },
  {
   "cell_type": "code",
   "execution_count": 12,
   "metadata": {},
   "outputs": [],
   "source": [
    "x = vector(4)\n",
    "x[0] = 1\n",
    "x[1] = 2\n",
    "x[2] = 3\n",
    "x[3] = 5"
   ]
  },
  {
   "cell_type": "code",
   "execution_count": 13,
   "metadata": {},
   "outputs": [
    {
     "name": "stdout",
     "output_type": "stream",
     "text": [
      "< 2  4  6  9 >\n"
     ]
    }
   ],
   "source": [
    "x + [1,2,3,4]\n",
    "print(x)"
   ]
  },
  {
   "cell_type": "code",
   "execution_count": 14,
   "metadata": {},
   "outputs": [
    {
     "name": "stdout",
     "output_type": "stream",
     "text": [
      "could not perform operation\n"
     ]
    }
   ],
   "source": [
    "try:\n",
    "    [1,2,3,4] + x # Python uses left operand definition of +\n",
    "    print(x)\n",
    "except TypeError:\n",
    "    print('could not perform operation')"
   ]
  },
  {
   "cell_type": "markdown",
   "metadata": {},
   "source": [
    "we can iterate our class implicitly since we implemented `__len__` and `__getitem__` (see next section for what this is)"
   ]
  },
  {
   "cell_type": "code",
   "execution_count": 15,
   "metadata": {},
   "outputs": [
    {
     "name": "stdout",
     "output_type": "stream",
     "text": [
      "21\n"
     ]
    }
   ],
   "source": [
    "total = 0\n",
    "for entry in x:\n",
    "    total += entry\n",
    "print(total)"
   ]
  },
  {
   "cell_type": "markdown",
   "metadata": {},
   "source": [
    "## Iterators and Iterables\n",
    "\n",
    "1. _iterable_ \n",
    "    * An object which produces an iterator via `iter(obj)`\n",
    "2. _iterator_\n",
    "    * Calling `next(i)` will produce next object in the series (until you reach the end of the sequence and a `StopIteration` exception is raised)\n",
    "    * Calling `iter` on an iterator just returns the object itself\n",
    "\n",
    "The _range_ object is a kind of iterable"
   ]
  },
  {
   "cell_type": "code",
   "execution_count": 16,
   "metadata": {},
   "outputs": [
    {
     "name": "stdout",
     "output_type": "stream",
     "text": [
      "next(y)=8\n",
      "next(z)=6\n"
     ]
    }
   ],
   "source": [
    "x = range(8, -9, -2) # create range object that iterates through 8, 6, 4, 2, 0, −2, −4, −6, −8\n",
    "y=iter(x)\n",
    "print('next(y)={}'.format(next(y)))\n",
    "z = iter(y)\n",
    "print('next(z)={}'.format(next(z))) #  notice how iter copies iterator completely (including index)"
   ]
  },
  {
   "cell_type": "markdown",
   "metadata": {},
   "source": [
    "range also implements `__len__` and `__getitem__` (so can iterate through it implicitly)"
   ]
  },
  {
   "cell_type": "code",
   "execution_count": 17,
   "metadata": {},
   "outputs": [
    {
     "name": "stdout",
     "output_type": "stream",
     "text": [
      "2\n",
      "10\n"
     ]
    }
   ],
   "source": [
    "x=range(10)\n",
    "print(x[2])\n",
    "print(len(x))"
   ]
  },
  {
   "cell_type": "markdown",
   "metadata": {},
   "source": [
    "`Generators` are functions which produce iterators"
   ]
  },
  {
   "cell_type": "code",
   "execution_count": 18,
   "metadata": {},
   "outputs": [],
   "source": [
    "def factors(n): # generator that computes factors\n",
    "    k=1\n",
    "    while k*k < n: # while k < sqrt(n)\n",
    "        if n % k == 0:\n",
    "            yield k\n",
    "            yield n // k\n",
    "        k += 1\n",
    "    if k*k == n: # special case if n is perfect square\n",
    "        yield k"
   ]
  },
  {
   "cell_type": "code",
   "execution_count": 19,
   "metadata": {},
   "outputs": [
    {
     "name": "stdout",
     "output_type": "stream",
     "text": [
      "1\n",
      "21\n",
      "3\n",
      "7\n"
     ]
    }
   ],
   "source": [
    "x=factors(21)\n",
    "\n",
    "iterx = iter(x)\n",
    "\n",
    "for _ in range(4):\n",
    "    print(next(iterx))"
   ]
  },
  {
   "cell_type": "markdown",
   "metadata": {},
   "source": [
    "Different kinds of iterators depending on data structure of iterable (list, dict, set, ...)"
   ]
  },
  {
   "cell_type": "code",
   "execution_count": 20,
   "metadata": {},
   "outputs": [
    {
     "name": "stdout",
     "output_type": "stream",
     "text": [
      "type of x is <class 'list_iterator'>\n",
      "type of y is <class 'set_iterator'>\n",
      "type of z is <class 'dict_keyiterator'>\n"
     ]
    }
   ],
   "source": [
    "x=iter([1,2,3])\n",
    "y=iter({1,2,3})\n",
    "z=iter({'1':2, '2':1})\n",
    "print('type of x is {}'.format(type(x)))\n",
    "print('type of y is {}'.format(type(y)))\n",
    "print('type of z is {}'.format(type(z)))"
   ]
  },
  {
   "cell_type": "markdown",
   "metadata": {},
   "source": [
    "Notice that the iterator references the underlying iterable. So changes to the iterable will also change the values returned by the iterator"
   ]
  },
  {
   "cell_type": "code",
   "execution_count": 21,
   "metadata": {},
   "outputs": [
    {
     "name": "stdout",
     "output_type": "stream",
     "text": [
      "test list values: [1, 2, 4]\n",
      "values returned by iterator on test list: [1 2 4 ]\n"
     ]
    }
   ],
   "source": [
    "test_list = [1,2,3]\n",
    "test_iterator = iter(test_list)\n",
    "\n",
    "test_list[2] = 4                                                # changing element AFTER creating iterator from it!\n",
    "print('test list values: {}'.format(test_list))\n",
    "\n",
    "print('values returned by iterator on test list: [', end='')\n",
    "for i in test_iterator:\n",
    "    print('{}'.format(i), end=' ')                              # notice that test_iterator has the same change\n",
    "print(']')"
   ]
  },
  {
   "cell_type": "markdown",
   "metadata": {},
   "source": [
    "Same with sets!"
   ]
  },
  {
   "cell_type": "code",
   "execution_count": 22,
   "metadata": {},
   "outputs": [
    {
     "name": "stdout",
     "output_type": "stream",
     "text": [
      "test set values: {1, 3, 4}\n",
      "values returned by iterator on test set: {1 3 4 }\n"
     ]
    }
   ],
   "source": [
    "test_set = {1,2,3}\n",
    "test_iterator = iter(test_set)\n",
    "\n",
    "test_set.remove(2)\n",
    "test_set.add(4)\n",
    "\n",
    "print('test set values: {}'.format(test_set))\n",
    "\n",
    "print('values returned by iterator on test set: {', end='')\n",
    "for i in test_iterator:\n",
    "    print('{}'.format(i), end=' ')\n",
    "print('}')"
   ]
  },
  {
   "cell_type": "markdown",
   "metadata": {},
   "source": [
    "Notice here that mutating the entry of the list doesn't change anything, this is because int is not _mutable_"
   ]
  },
  {
   "cell_type": "code",
   "execution_count": 23,
   "metadata": {},
   "outputs": [
    {
     "name": "stdout",
     "output_type": "stream",
     "text": [
      "values returned by iterator on test list: [3 2 2 ]\n",
      "test list values: [3, 2, 1]\n"
     ]
    }
   ],
   "source": [
    "test_list = [3,2,1]\n",
    "test_iterator = iter(test_list)\n",
    "\n",
    "print('values returned by iterator on test list: [', end='')\n",
    "for item in test_iterator:\n",
    "    if item == 1:\n",
    "        item += 1                              # wont change outside scope\n",
    "        assert(id(item)==id(test_list[1]))     # these point to the same obect!\n",
    "    print('{}'.format(item), end=' ') \n",
    "print(']')\n",
    "\n",
    "print('test list values: {}'.format(test_list))"
   ]
  },
  {
   "cell_type": "markdown",
   "metadata": {},
   "source": [
    "Lists are mutatable though, so the underlying iterable will have its values changed!"
   ]
  },
  {
   "cell_type": "code",
   "execution_count": 24,
   "metadata": {},
   "outputs": [
    {
     "name": "stdout",
     "output_type": "stream",
     "text": [
      "values returned by iterator on test list: [[3, 2, 1] ['changed', 'hello'] ]\n",
      "test list values: [[3, 2, 1], ['changed', 'hello']]\n"
     ]
    }
   ],
   "source": [
    "test_list = [[3,2,1],['hi','hello']]                          # list of lists (crucially, the inner lists are mutable!)\n",
    "test_iterator = iter(test_list)\n",
    "\n",
    "print('values returned by iterator on test list: [', end='')\n",
    "for item in test_iterator:\n",
    "    if item == ['hi','hello']:\n",
    "        item[0] = 'changed'                                    # mutating list\n",
    "    print('{}'.format(item), end=' ') \n",
    "print(']')\n",
    "\n",
    "print('test list values: {}'.format(test_list))"
   ]
  },
  {
   "cell_type": "markdown",
   "metadata": {},
   "source": [
    "## Scopes and Namespaces\n",
    "\n",
    "namespace of function has priority over namespace at top level"
   ]
  },
  {
   "cell_type": "code",
   "execution_count": 25,
   "metadata": {},
   "outputs": [
    {
     "name": "stdout",
     "output_type": "stream",
     "text": [
      "inner namespace x=1\n",
      "outer namespace x=0\n"
     ]
    }
   ],
   "source": [
    "def set_x(x):\n",
    "    print('inner namespace x={}'.format(vars()['x'])) # 1\n",
    "\n",
    "x=0\n",
    "set_x(1)\n",
    "print('outer namespace x={}'.format(vars()['x'])) # 0\n"
   ]
  },
  {
   "cell_type": "markdown",
   "metadata": {},
   "source": [
    "Passing by reference vs passing by value vs what Python does.\n",
    "(this nifty example illustrates the difference (taken from [here](https://robertheaton.com/2014/02/09/pythons-pass-by-object-reference-as-explained-by-philip-k-dick/)))\n",
    "\n",
    "In Python functions: \"Object references are passed by value\"\n",
    "\n",
    "What does this mean? In the example below, the reference to "
   ]
  },
  {
   "cell_type": "code",
   "execution_count": 26,
   "metadata": {},
   "outputs": [
    {
     "name": "stdout",
     "output_type": "stream",
     "text": [
      "_list is: [0]\n",
      "_list is: [0, 1]\n"
     ]
    }
   ],
   "source": [
    "def reassign(_list_ref):\n",
    "    # in pass-by-reference, _list would change here since _list and _list_ref point to the same object\n",
    "    # no effect if pass-by-value, since _list_ref and _list point to different objects\n",
    "    _list_ref = [0, 1]\n",
    "\n",
    "def append(_list_ref):\n",
    "    # in pass-by-reference, _list would change for same reason as above\n",
    "    # no effect if pass-by-value, for same reason as above\n",
    "    _list_ref.append(1)\n",
    "\n",
    "_list = [0]\n",
    "reassign(_list)\n",
    "print('_list is: {}'.format(_list))\n",
    "\n",
    "append(_list)\n",
    "print('_list is: {}'.format(_list))\n",
    "\n",
    "# pass-by-reference would give [0,1,1]\n",
    "# pass-by-value would give [0]"
   ]
  },
  {
   "cell_type": "markdown",
   "metadata": {},
   "source": [
    "## Loading modules\n",
    "\n",
    "We can import a python script as a module or execute it using the interpreter.\n",
    "We can hide certain code depending on how we run it.\n",
    "\n",
    "`module.py` contains the following code:\n",
    "```\n",
    "print('loaded as module or script')\n",
    "\n",
    "if __name__ == '__main__':\n",
    "    print('loaded as script') # this only runs if its a script\n",
    "```"
   ]
  },
  {
   "cell_type": "code",
   "execution_count": 27,
   "metadata": {},
   "outputs": [
    {
     "name": "stdout",
     "output_type": "stream",
     "text": [
      "loaded as module or script\n"
     ]
    }
   ],
   "source": [
    "import module"
   ]
  },
  {
   "cell_type": "code",
   "execution_count": 28,
   "metadata": {},
   "outputs": [
    {
     "name": "stdout",
     "output_type": "stream",
     "text": [
      "loaded as module or script\n",
      "loaded as script\n"
     ]
    }
   ],
   "source": [
    "exec(open('module.py').read())"
   ]
  }
 ],
 "metadata": {
  "kernelspec": {
   "display_name": "Python 3",
   "language": "python",
   "name": "python3"
  },
  "language_info": {
   "codemirror_mode": {
    "name": "ipython",
    "version": 3
   },
   "file_extension": ".py",
   "mimetype": "text/x-python",
   "name": "python",
   "nbconvert_exporter": "python",
   "pygments_lexer": "ipython3",
   "version": "3.7.4"
  }
 },
 "nbformat": 4,
 "nbformat_minor": 4
}
