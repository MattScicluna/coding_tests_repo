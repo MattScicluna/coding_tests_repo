{
 "cells": [
  {
   "cell_type": "markdown",
   "metadata": {},
   "source": [
    "Examples from Chapter 1"
   ]
  },
  {
   "cell_type": "markdown",
   "metadata": {},
   "source": [
    "Iterables"
   ]
  },
  {
   "cell_type": "code",
   "execution_count": 1,
   "metadata": {},
   "outputs": [
    {
     "name": "stdout",
     "output_type": "stream",
     "text": [
      "next(y)=8\n",
      "next(z)=6\n"
     ]
    }
   ],
   "source": [
    "x = range(8, -9, -2) # create range object that iterates through 8, 6, 4, 2, 0, −2, −4, −6, −8\n",
    "y=iter(x)\n",
    "print('next(y)={}'.format(next(y)))\n",
    "z = iter(y)\n",
    "print('next(z)={}'.format(next(z))) #  notice how iter copies iterator completely (including index)"
   ]
  },
  {
   "cell_type": "markdown",
   "metadata": {},
   "source": [
    "Generators"
   ]
  },
  {
   "cell_type": "code",
   "execution_count": 2,
   "metadata": {},
   "outputs": [],
   "source": [
    "def factors(n): # generator that computes factors\n",
    "    k=1\n",
    "    while k*k < n: # while k < sqrt(n)\n",
    "        if n % k == 0:\n",
    "            yield k\n",
    "            yield n // k\n",
    "        k += 1\n",
    "    if k*k == n: # special case if n is perfect square\n",
    "        yield k"
   ]
  },
  {
   "cell_type": "code",
   "execution_count": 3,
   "metadata": {},
   "outputs": [
    {
     "name": "stdout",
     "output_type": "stream",
     "text": [
      "1\n",
      "21\n",
      "3\n",
      "7\n"
     ]
    }
   ],
   "source": [
    "x=factors(21)\n",
    "for factor in x:\n",
    "    print(factor)"
   ]
  },
  {
   "cell_type": "markdown",
   "metadata": {},
   "source": [
    "Different kinds of iterators"
   ]
  },
  {
   "cell_type": "code",
   "execution_count": 4,
   "metadata": {},
   "outputs": [
    {
     "name": "stdout",
     "output_type": "stream",
     "text": [
      "type of x is <class 'list_iterator'>\n",
      "type of y is <class 'set_iterator'>\n",
      "type of z is <class 'dict_keyiterator'>\n"
     ]
    }
   ],
   "source": [
    "x=iter([1,2,3])\n",
    "y=iter({1,2,3})\n",
    "z=iter({'1':2, '2':1})\n",
    "print('type of x is {}'.format(type(x)))\n",
    "print('type of y is {}'.format(type(y)))\n",
    "print('type of z is {}'.format(type(z)))"
   ]
  },
  {
   "cell_type": "code",
   "execution_count": 5,
   "metadata": {},
   "outputs": [
    {
     "name": "stdout",
     "output_type": "stream",
     "text": [
      "[1, 2, 3]\n",
      "2\n",
      "2\n",
      "3\n",
      "[1, 2, 3]\n"
     ]
    }
   ],
   "source": [
    "test_list = [1,2,3]\n",
    "test_iterator = iter(test_list)\n",
    "\n",
    "print(test_list)\n",
    "\n",
    "for i in test_iterator:\n",
    "    if i == 1:\n",
    "        i += 1 # wont change outside scope\n",
    "    print('{}'.format(i))\n",
    "\n",
    "print(test_list)"
   ]
  },
  {
   "cell_type": "code",
   "execution_count": 6,
   "metadata": {},
   "outputs": [
    {
     "name": "stdout",
     "output_type": "stream",
     "text": [
      "[1, 2, 3]\n",
      "1\n",
      "2\n",
      "4\n"
     ]
    }
   ],
   "source": [
    "test_list = [1,2,3]\n",
    "test_iterator = iter(test_list)\n",
    "\n",
    "print(test_list)\n",
    "\n",
    "test_list[2] = 4\n",
    "\n",
    "for i in test_iterator:\n",
    "    print('{}'.format(i)) # notice that test_iterator has the same change"
   ]
  },
  {
   "cell_type": "code",
   "execution_count": 7,
   "metadata": {},
   "outputs": [
    {
     "name": "stdout",
     "output_type": "stream",
     "text": [
      "{1, 2, 3}\n",
      "1\n",
      "3\n",
      "4\n"
     ]
    }
   ],
   "source": [
    "test_set = {1,2,3}\n",
    "test_iterator = iter(test_set)\n",
    "\n",
    "print(test_set)\n",
    "\n",
    "test_set.remove(2)\n",
    "test_set.add(4)\n",
    "\n",
    "for i in test_iterator:\n",
    "    print('{}'.format(i)) # notice that test_iterator also has the same change"
   ]
  },
  {
   "cell_type": "markdown",
   "metadata": {},
   "source": [
    "Python Operators"
   ]
  },
  {
   "cell_type": "code",
   "execution_count": 8,
   "metadata": {},
   "outputs": [
    {
     "name": "stdout",
     "output_type": "stream",
     "text": [
      "hihihi\n",
      "hihihi\n"
     ]
    }
   ],
   "source": [
    "print(3*'hi') # uses the * implementation of string vs int\n",
    "print('hi'*3)"
   ]
  },
  {
   "cell_type": "code",
   "execution_count": 10,
   "metadata": {},
   "outputs": [],
   "source": [
    "class vector():\n",
    "    def __init__(self, d):\n",
    "        self._coords = [0]*d\n",
    "    def __len__(self):\n",
    "        return len(self._coords)\n",
    "    def __getitem__(self, i):\n",
    "        return self._coords[i]\n",
    "    def __add__(self, other):\n",
    "        for i in range(len(self)):\n",
    "            self[i] += other[i]\n",
    "    def __setitem__(self, j, val):\n",
    "        self._coords[j] = val\n",
    "    def __repr__(self):\n",
    "        to_return = '<'\n",
    "        for i in range(len(self)):\n",
    "            to_return += ' {} '.format(self[i])\n",
    "        to_return += '>'\n",
    "        return to_return"
   ]
  },
  {
   "cell_type": "code",
   "execution_count": 11,
   "metadata": {},
   "outputs": [],
   "source": [
    "x = vector(4)\n",
    "x[0] = 1\n",
    "x[1] = 2\n",
    "x[2] = 3\n",
    "x[3] = 5"
   ]
  },
  {
   "cell_type": "code",
   "execution_count": 12,
   "metadata": {},
   "outputs": [
    {
     "name": "stdout",
     "output_type": "stream",
     "text": [
      "< 2  4  6  9 >\n"
     ]
    }
   ],
   "source": [
    "x + [1,2,3,4]\n",
    "print(x)"
   ]
  },
  {
   "cell_type": "code",
   "execution_count": 13,
   "metadata": {},
   "outputs": [
    {
     "ename": "TypeError",
     "evalue": "can only concatenate list (not \"vector\") to list",
     "output_type": "error",
     "traceback": [
      "\u001b[0;31m---------------------------------------------------------------------------\u001b[0m",
      "\u001b[0;31mTypeError\u001b[0m                                 Traceback (most recent call last)",
      "\u001b[0;32m<ipython-input-13-f843127db425>\u001b[0m in \u001b[0;36m<module>\u001b[0;34m\u001b[0m\n\u001b[0;32m----> 1\u001b[0;31m \u001b[0;34m[\u001b[0m\u001b[0;36m1\u001b[0m\u001b[0;34m,\u001b[0m\u001b[0;36m2\u001b[0m\u001b[0;34m,\u001b[0m\u001b[0;36m3\u001b[0m\u001b[0;34m,\u001b[0m\u001b[0;36m4\u001b[0m\u001b[0;34m]\u001b[0m \u001b[0;34m+\u001b[0m \u001b[0mx\u001b[0m \u001b[0;31m# Python uses left operand definition of +\u001b[0m\u001b[0;34m\u001b[0m\u001b[0;34m\u001b[0m\u001b[0m\n\u001b[0m\u001b[1;32m      2\u001b[0m \u001b[0mprint\u001b[0m\u001b[0;34m(\u001b[0m\u001b[0mx\u001b[0m\u001b[0;34m)\u001b[0m\u001b[0;34m\u001b[0m\u001b[0;34m\u001b[0m\u001b[0m\n",
      "\u001b[0;31mTypeError\u001b[0m: can only concatenate list (not \"vector\") to list"
     ]
    }
   ],
   "source": [
    "[1,2,3,4] + x # Python uses left operand definition of +\n",
    "print(x)"
   ]
  },
  {
   "cell_type": "code",
   "execution_count": 14,
   "metadata": {},
   "outputs": [
    {
     "name": "stdout",
     "output_type": "stream",
     "text": [
      "21\n"
     ]
    }
   ],
   "source": [
    "total = 0\n",
    "for entry in x:\n",
    "    total += entry  # implicit iteration via __len__ and __getitem__\n",
    "print(total)"
   ]
  },
  {
   "cell_type": "markdown",
   "metadata": {},
   "source": [
    "Range Object has `__getitem__` and `__len__` method (so has an automatic iterator implementation)"
   ]
  },
  {
   "cell_type": "code",
   "execution_count": 15,
   "metadata": {},
   "outputs": [
    {
     "name": "stdout",
     "output_type": "stream",
     "text": [
      "2\n",
      "10\n"
     ]
    }
   ],
   "source": [
    "x=range(10)\n",
    "print(x[2])\n",
    "print(len(x))"
   ]
  },
  {
   "cell_type": "markdown",
   "metadata": {},
   "source": [
    "Examples from Chapter 2"
   ]
  },
  {
   "cell_type": "markdown",
   "metadata": {},
   "source": [
    "Shallow and Deep Copies"
   ]
  },
  {
   "cell_type": "code",
   "execution_count": 26,
   "metadata": {},
   "outputs": [
    {
     "name": "stdout",
     "output_type": "stream",
     "text": [
      "palette: [(249,124,43), (169,163,52)]\n",
      "warmtones: [(249,124,43), (169,163,52)]\n",
      "palette: [(249,124,43), (169,163,52), (0,0,0)]\n",
      "warmtones: [(249,124,43), (169,163,52), (0,0,0)]\n"
     ]
    }
   ],
   "source": [
    "import copy\n",
    "\n",
    "class colors():\n",
    "    def __init__(self, red, green, blue):\n",
    "        self._red, self._green, self._blue = red, green, blue\n",
    "    def __repr__(self):\n",
    "        return '(' + str(self._red) + ',' + str(self._green) + ',' + str(self._blue) + ')'\n",
    "\n",
    "warmtones = [colors(249, 124, 43), colors(169, 163, 52)]\n",
    "        \n",
    "palette = warmtones # alias\n",
    "\n",
    "print('palette: {}'.format(palette))\n",
    "print('warmtones: {}'.format(warmtones))\n",
    "\n",
    "palette.append(colors(0, 0, 0))\n",
    "\n",
    "print('palette: {}'.format(palette))\n",
    "print('warmtones: {}'.format(warmtones)) # both change!"
   ]
  },
  {
   "cell_type": "code",
   "execution_count": 28,
   "metadata": {},
   "outputs": [
    {
     "name": "stdout",
     "output_type": "stream",
     "text": [
      "palette: [(249,124,43), (169,163,52)]\n",
      "warmtones: [(249,124,43), (169,163,52)]\n",
      "palette: [(249,124,43), (169,163,52), (0,0,0)]\n",
      "warmtones: [(249,124,43), (169,163,52)]\n",
      "palette: [(255,124,43), (169,163,52), (0,0,0)]\n",
      "warmtones: [(255,124,43), (169,163,52)]\n"
     ]
    }
   ],
   "source": [
    "warmtones = [colors(249, 124, 43), colors(169, 163, 52)]\n",
    "        \n",
    "palette = list(warmtones) # shallow copy\n",
    "\n",
    "print('palette: {}'.format(palette))\n",
    "print('warmtones: {}'.format(warmtones))\n",
    "\n",
    "palette.append(colors(0, 0, 0))\n",
    "\n",
    "print('palette: {}'.format(palette))\n",
    "print('warmtones: {}'.format(warmtones)) # now only one changes!\n",
    "\n",
    "palette[0]._red = 255 # change attribute of entry in one list\n",
    "\n",
    "print('palette: {}'.format(palette))\n",
    "print('warmtones: {}'.format(warmtones)) # both changes!\n"
   ]
  },
  {
   "cell_type": "code",
   "execution_count": 29,
   "metadata": {},
   "outputs": [
    {
     "name": "stdout",
     "output_type": "stream",
     "text": [
      "palette: [(255,124,43), (169,163,52)]\n",
      "warmtones: [(249,124,43), (169,163,52)]\n"
     ]
    }
   ],
   "source": [
    "warmtones = [colors(249, 124, 43), colors(169, 163, 52)]\n",
    "palette = copy.deepcopy(warmtones) # deep copy\n",
    "\n",
    "palette[0]._red = 255 # change attribute of entry in one list\n",
    "\n",
    "print('palette: {}'.format(palette))\n",
    "print('warmtones: {}'.format(warmtones)) # only one changes!\n"
   ]
  },
  {
   "cell_type": "markdown",
   "metadata": {},
   "source": [
    "class inheritance namespaces"
   ]
  },
  {
   "cell_type": "code",
   "execution_count": 57,
   "metadata": {},
   "outputs": [],
   "source": [
    "class CreditCard():\n",
    "    __slots__ = '_balance', '_name' \n",
    "    \n",
    "    def __init__(self, name):\n",
    "        self._balance = 0\n",
    "        self._name = name\n",
    "    def charge(self, amount):\n",
    "        self._balance += amount\n",
    "\n",
    "class PredatoryCreditCard(CreditCard):\n",
    "    __slots__ = '_apr'\n",
    "    \n",
    "    OVERLIMIT_FEE = 5\n",
    "    \n",
    "    def __init__(self, name, apr):\n",
    "        super().__init__(name)\n",
    "        self._apr = apr\n",
    "    \n",
    "    def charge(self, price):\n",
    "        success = super().charge(price)\n",
    "        if not success:\n",
    "            self._balance += PredatoryCreditCard.OVERLIMIT_FEE\n",
    "        return success"
   ]
  },
  {
   "cell_type": "code",
   "execution_count": 58,
   "metadata": {},
   "outputs": [],
   "source": [
    "cc_instance = CreditCard('john doe')\n",
    "cc_instance.charge(4)\n",
    "\n",
    "pcc_instance = PredatoryCreditCard('john doe', 0.08)\n",
    "pcc_instance.charge(4)"
   ]
  },
  {
   "cell_type": "code",
   "execution_count": 59,
   "metadata": {},
   "outputs": [
    {
     "data": {
      "text/plain": [
       "['__class__',\n",
       " '__delattr__',\n",
       " '__dir__',\n",
       " '__doc__',\n",
       " '__eq__',\n",
       " '__format__',\n",
       " '__ge__',\n",
       " '__getattribute__',\n",
       " '__gt__',\n",
       " '__hash__',\n",
       " '__init__',\n",
       " '__init_subclass__',\n",
       " '__le__',\n",
       " '__lt__',\n",
       " '__module__',\n",
       " '__ne__',\n",
       " '__new__',\n",
       " '__reduce__',\n",
       " '__reduce_ex__',\n",
       " '__repr__',\n",
       " '__setattr__',\n",
       " '__sizeof__',\n",
       " '__slots__',\n",
       " '__str__',\n",
       " '__subclasshook__',\n",
       " '_balance',\n",
       " '_name',\n",
       " 'charge']"
      ]
     },
     "execution_count": 59,
     "metadata": {},
     "output_type": "execute_result"
    }
   ],
   "source": [
    "dir(cc_instance)"
   ]
  },
  {
   "cell_type": "code",
   "execution_count": 60,
   "metadata": {},
   "outputs": [
    {
     "data": {
      "text/plain": [
       "['OVERLIMIT_FEE',\n",
       " '__class__',\n",
       " '__delattr__',\n",
       " '__dir__',\n",
       " '__doc__',\n",
       " '__eq__',\n",
       " '__format__',\n",
       " '__ge__',\n",
       " '__getattribute__',\n",
       " '__gt__',\n",
       " '__hash__',\n",
       " '__init__',\n",
       " '__init_subclass__',\n",
       " '__le__',\n",
       " '__lt__',\n",
       " '__module__',\n",
       " '__ne__',\n",
       " '__new__',\n",
       " '__reduce__',\n",
       " '__reduce_ex__',\n",
       " '__repr__',\n",
       " '__setattr__',\n",
       " '__sizeof__',\n",
       " '__slots__',\n",
       " '__str__',\n",
       " '__subclasshook__',\n",
       " '_apr',\n",
       " '_balance',\n",
       " '_name',\n",
       " 'charge']"
      ]
     },
     "execution_count": 60,
     "metadata": {},
     "output_type": "execute_result"
    }
   ],
   "source": [
    "dir(pcc_instance)"
   ]
  },
  {
   "cell_type": "code",
   "execution_count": 61,
   "metadata": {},
   "outputs": [
    {
     "data": {
      "text/plain": [
       "['OVERLIMIT_FEE',\n",
       " '__class__',\n",
       " '__delattr__',\n",
       " '__dir__',\n",
       " '__doc__',\n",
       " '__eq__',\n",
       " '__format__',\n",
       " '__ge__',\n",
       " '__getattribute__',\n",
       " '__gt__',\n",
       " '__hash__',\n",
       " '__init__',\n",
       " '__init_subclass__',\n",
       " '__le__',\n",
       " '__lt__',\n",
       " '__module__',\n",
       " '__ne__',\n",
       " '__new__',\n",
       " '__reduce__',\n",
       " '__reduce_ex__',\n",
       " '__repr__',\n",
       " '__setattr__',\n",
       " '__sizeof__',\n",
       " '__slots__',\n",
       " '__str__',\n",
       " '__subclasshook__',\n",
       " '_apr',\n",
       " '_balance',\n",
       " '_name',\n",
       " 'charge']"
      ]
     },
     "execution_count": 61,
     "metadata": {},
     "output_type": "execute_result"
    }
   ],
   "source": [
    "dir(PredatoryCreditCard)"
   ]
  },
  {
   "cell_type": "code",
   "execution_count": 62,
   "metadata": {},
   "outputs": [
    {
     "data": {
      "text/plain": [
       "['__class__',\n",
       " '__delattr__',\n",
       " '__dir__',\n",
       " '__doc__',\n",
       " '__eq__',\n",
       " '__format__',\n",
       " '__ge__',\n",
       " '__getattribute__',\n",
       " '__gt__',\n",
       " '__hash__',\n",
       " '__init__',\n",
       " '__init_subclass__',\n",
       " '__le__',\n",
       " '__lt__',\n",
       " '__module__',\n",
       " '__ne__',\n",
       " '__new__',\n",
       " '__reduce__',\n",
       " '__reduce_ex__',\n",
       " '__repr__',\n",
       " '__setattr__',\n",
       " '__sizeof__',\n",
       " '__slots__',\n",
       " '__str__',\n",
       " '__subclasshook__',\n",
       " '_balance',\n",
       " '_name',\n",
       " 'charge']"
      ]
     },
     "execution_count": 62,
     "metadata": {},
     "output_type": "execute_result"
    }
   ],
   "source": [
    "dir(CreditCard)"
   ]
  },
  {
   "cell_type": "code",
   "execution_count": null,
   "metadata": {},
   "outputs": [],
   "source": []
  }
 ],
 "metadata": {
  "kernelspec": {
   "display_name": "Python 3",
   "language": "python",
   "name": "python3"
  },
  "language_info": {
   "codemirror_mode": {
    "name": "ipython",
    "version": 3
   },
   "file_extension": ".py",
   "mimetype": "text/x-python",
   "name": "python",
   "nbconvert_exporter": "python",
   "pygments_lexer": "ipython3",
   "version": "3.7.4"
  }
 },
 "nbformat": 4,
 "nbformat_minor": 4
}
